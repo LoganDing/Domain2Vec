{
 "cells": [
  {
   "cell_type": "code",
   "execution_count": 66,
   "metadata": {
    "collapsed": true
   },
   "outputs": [],
   "source": [
    "domain_data = sc.textFile('/media/jw/5dccc50e-7c13-4186-bf6b-d894f02410be/result_jw_new/myline/domain_data/*')"
   ]
  },
  {
   "cell_type": "code",
   "execution_count": null,
   "metadata": {
    "collapsed": false
   },
   "outputs": [],
   "source": [
    "import numpy as np\n",
    "alpha =  np.mean(domain_data.map(lambda a : a.count(\"video\")/(a.count(\".\")+1)).collect())*1000\n",
    "beta =  np.mean(domain_data.map(lambda a : a.count(\"game\")/(a.count(\".\")+1)).collect())*1000"
   ]
  },
  {
   "cell_type": "code",
   "execution_count": null,
   "metadata": {
    "collapsed": false
   },
   "outputs": [],
   "source": [
    "len(domain_data.collect())"
   ]
  },
  {
   "cell_type": "code",
   "execution_count": null,
   "metadata": {
    "collapsed": false
   },
   "outputs": [],
   "source": [
    "%whos"
   ]
  },
  {
   "cell_type": "code",
   "execution_count": 59,
   "metadata": {
    "collapsed": false
   },
   "outputs": [
    {
     "data": {
      "text/plain": [
       "['init-p01st.push.apple.com dns.weixin.qq.com short.weixin.qq.com dns.weixin.qq.com short.weixin.qq.com shp.qlogo.cn short.weixin.qq.com shp.qlogo.cn short.weixin.qq.com conf.3g.qq.com monitor.uu.qq.com conf.3g.qq.com monitor.uu.qq.com kiss.3g.qq.com evintl-ocsp.verisign.com evsecure-ocsp.verisign.com m.qpic.cn monitor.uu.qq.com 120.204.201.167 infopic.gtimg.com 3gimg.qq.com vpic.video.qq.com infopic.gtimg.com 3gimg.qq.com infopic.gtimg.com vpic.video.qq.com infopic.gtimg.com configuration.apple.com vpic.video.qq.com 3gimg.qq.com infopic.gtimg.com 3gimg.qq.com infopic.gtimg.com monitor.uu.qq.com infopic.gtimg.com dns.weixin.qq.com init.ess.apple.com short.weixin.qq.com wx.qlogo.cn short.weixin.qq.com mmsns.qpic.cn short.weixin.qq.com mmsns.qpic.cn short.weixin.qq.com',\n",
       " 'dns.weixin.qq.com uc.ucweb.com monitor.uu.qq.com uc.ucweb.com monitor.uu.qq.com dns.weixin.qq.com acjs.aliyun.com short.weixin.qq.com configsvr.msf.3g.qq.com logstatic.sj.91.com api.m.taobao.com uc.ucweb.com monitor.uu.qq.com pdata.video.qiyi.com uc.ucweb.com pdata.video.qiyi.com short.weixin.qq.com update.ppstream.com apoll.m.taobao.com ucus.ucweb.com pdata.video.qiyi.com kwurl.ucweb.com uc.ucweb.com pdata.video.qiyi.com uc.ucweb.com logstatic.sj.91.com uc.ucweb.com short.weixin.qq.com mmsns.qpic.cn short.weixin.qq.com cgi.connect.qq.com monitor.uu.qq.com opensdk.uu.qq.com cgi.connect.qq.com down.qq.com 120.204.205.183 short.weixin.qq.com 120.196.208.72 pdata.video.qiyi.com short.weixin.qq.com pdata.video.qiyi.com update.ppstream.com api.m.taobao.com pdata.video.qiyi.com short.weixin.qq.com apoll.m.taobao.com short.weixin.qq.com apoll.m.taobao.com short.weixin.qq.com logstatic.sj.91.com pnewsapp.tc.qq.com short.weixin.qq.com pnewsapp.tc.qq.com dns.weixin.qq.com pnewsapp.tc.qq.com pdata.video.qiyi.com short.weixin.qq.com pdata.video.qiyi.com short.weixin.qq.com pdata.video.qiyi.com apoll.m.taobao.com short.weixin.qq.com pdata.video.qiyi.com update.ppstream.com pdata.video.qiyi.com short.weixin.qq.com rd.go.10086.cn api.m.taobao.com adash.m.taobao.com update.ppstream.com update.ppstv.net api.m.taobao.com adash.m.taobao.com update.ppstv.com adash.m.taobao.com short.weixin.qq.com dns.weixin.qq.com adash.m.taobao.com']"
      ]
     },
     "execution_count": 59,
     "metadata": {},
     "output_type": "execute_result"
    }
   ],
   "source": [
    "domain_data.filter(lambda p : (p.count(\"video\")/p.count(\".\")*50)>alpha).collect()"
   ]
  },
  {
   "cell_type": "code",
   "execution_count": 63,
   "metadata": {
    "collapsed": false
   },
   "outputs": [
    {
     "data": {
      "text/plain": [
       "2"
      ]
     },
     "execution_count": 63,
     "metadata": {},
     "output_type": "execute_result"
    }
   ],
   "source": [
    "len(domain_data.filter(lambda p : (p.count(\"game\")/p.count(\".\")*30)>alpha).collect())"
   ]
  },
  {
   "cell_type": "code",
   "execution_count": 1,
   "metadata": {
    "collapsed": true
   },
   "outputs": [],
   "source": [
    "import numpy as np"
   ]
  },
  {
   "cell_type": "code",
   "execution_count": 2,
   "metadata": {
    "collapsed": true
   },
   "outputs": [],
   "source": [
    "np.savetxt(test, )"
   ]
  },
  {
   "cell_type": "code",
   "execution_count": null,
   "metadata": {
    "collapsed": true
   },
   "outputs": [],
   "source": []
  }
 ],
 "metadata": {
  "anaconda-cloud": {},
  "kernelspec": {
   "display_name": "Python [conda root]",
   "language": "python",
   "name": "conda-root-py"
  },
  "language_info": {
   "codemirror_mode": {
    "name": "ipython",
    "version": 3
   },
   "file_extension": ".py",
   "mimetype": "text/x-python",
   "name": "python",
   "nbconvert_exporter": "python",
   "pygments_lexer": "ipython3",
   "version": "3.5.2"
  }
 },
 "nbformat": 4,
 "nbformat_minor": 1
}
