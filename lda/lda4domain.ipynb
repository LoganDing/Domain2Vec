{
 "cells": [
  {
   "cell_type": "code",
   "execution_count": 1,
   "metadata": {
    "collapsed": false
   },
   "outputs": [],
   "source": [
    "import os"
   ]
  },
  {
   "cell_type": "code",
   "execution_count": 2,
   "metadata": {
    "collapsed": false
   },
   "outputs": [
    {
     "name": "stdout",
     "output_type": "stream",
     "text": [
      "video\n",
      "exist video path\n"
     ]
    }
   ],
   "source": [
    "for i in os.listdir():\n",
    "    if i.endswith(\"txt\"):\n",
    "        name = i[:-4]\n",
    "        print(name)\n",
    "        if os.path.exists(\"ldadata/\"+name):\n",
    "            print(\"exist %s path\"%name)\n",
    "            break;\n",
    "        os.mkdir(\"ldadata/\"+name)\n",
    "        f=open(i, mode='r', encoding='utf-8')\n",
    "        num = 1\n",
    "        for line in f.readlines():\n",
    "            with open(\"ldadata/\"+\"%s/%s%s\"%(name, name, num), mode='w', encoding='utf-8') as fw:\n",
    "                fw.write(line)\n",
    "                num += 1\n",
    "        f.close()"
   ]
  },
  {
   "cell_type": "code",
   "execution_count": 103,
   "metadata": {
    "collapsed": false
   },
   "outputs": [
    {
     "data": {
      "text/plain": [
       "[]"
      ]
     },
     "execution_count": 103,
     "metadata": {},
     "output_type": "execute_result"
    }
   ],
   "source": [
    "os.listdir('datapath/')"
   ]
  },
  {
   "cell_type": "code",
   "execution_count": 106,
   "metadata": {
    "collapsed": false
   },
   "outputs": [],
   "source": [
    "datapath = '/media/jw/5dccc50e-7c13-4186-bf6b-d894f02410be/result_jw_new/myline/domain_data_remove_api/'\n",
    "num = 1\n",
    "for i in os.listdir(datapath):\n",
    "    if i.startswith('part'):\n",
    "        if os.path.exists(\"ldadata/users\"):\n",
    "#             print(\"exist %s path\")\n",
    "            pass\n",
    "        else:\n",
    "            os.mkdir(\"ldadata/\"+'users')\n",
    "        f=open(datapath + i, mode='r', encoding='utf-8')\n",
    "\n",
    "        for line in f.readlines():\n",
    "            with open(\"ldadata/\"+\"%s/%s.txt\"%('users', num), mode='w', encoding='utf-8') as fw:\n",
    "                fw.write(line)\n",
    "                num += 1\n",
    "        f.close()"
   ]
  },
  {
   "cell_type": "code",
   "execution_count": 100,
   "metadata": {
    "collapsed": false
   },
   "outputs": [
    {
     "name": "stdout",
     "output_type": "stream",
     "text": [
      "loading dataset\n",
      "done in 0.068s.\n",
      "Extracting tf features for LDA...\n",
      "done in 0.326s.\n"
     ]
    }
   ],
   "source": [
    "from __future__ import print_function\n",
    "from time import time\n",
    "\n",
    "from sklearn.feature_extraction.text import TfidfVectorizer, CountVectorizer\n",
    "from sklearn.decomposition import NMF, LatentDirichletAllocation\n",
    "from sklearn.datasets import fetch_20newsgroups\n",
    "from sklearn.datasets import load_files\n",
    "\n",
    "\n",
    "n_samples = 100000\n",
    "n_features = None\n",
    "n_topics = 10\n",
    "n_top_words = 20\n",
    "\n",
    "\n",
    "\n",
    "data_path=\"ldadata\"\n",
    "\n",
    "print(\"loading dataset\")\n",
    "t0 = time()\n",
    "dataset = load_files(data_path, shuffle=False,load_content=True,\n",
    "                     encoding='utf-8',decode_error='ignore')\n",
    "data_samples = dataset.data[:n_samples]\n",
    "print(\"done in %0.3fs.\" % (time() - t0))\n",
    "\n",
    "\n",
    "print(\"Extracting tf features for LDA...\")\n",
    "tf_vectorizer = TfidfVectorizer(\n",
    "                                max_df=0.99, \n",
    "                                min_df=0.05,\n",
    "#                                 max_features=n_features,\n",
    "                                token_pattern = '[a-z0-9A-Z_.]+'\n",
    "                               )\n",
    "t0 = time()\n",
    "tf = tf_vectorizer.fit_transform(data_samples)\n",
    "print(\"done in %0.3fs.\" % (time() - t0))\n",
    "\n"
   ]
  },
  {
   "cell_type": "code",
   "execution_count": 101,
   "metadata": {
    "collapsed": false
   },
   "outputs": [
    {
     "name": "stdout",
     "output_type": "stream",
     "text": [
      "Fitting LDA models with tf features, n_samples=100000 and n_features=None...\n",
      "done in 1.457s.\n",
      "\n",
      "Topics in LDA model:\n",
      "Topic #0:\n",
      "m.baidu.com\n",
      "hm.baidu.com\n",
      "mobads\n",
      "logs.baidu.com\n",
      "timg01.baidu\n",
      "nsclick.baidu.com\n",
      "2img.cn\n",
      "img.cn\n",
      "www.google\n",
      "analytics.com\n",
      "short.weixin.qq.com\n",
      "rd.go.10086.cn\n",
      "loc.map.baidu.com\n",
      "safe.ucweb.com\n",
      "hmma.baidu.com\n",
      "3gimg.qq.com\n",
      "monitor.uu.qq.com\n",
      "uc.ucweb.com\n",
      "configsvr.msf.3g.qq.com\n",
      "kwurl.ucweb.com\n",
      "\n",
      "\n",
      "\n",
      "Topic #1:\n",
      "api.m.taobao.com\n",
      "adash.m.taobao.com\n",
      "apoll.m.taobao.com\n",
      "monitor.uu.qq.com\n",
      "googleads.g.doubleclick.net\n",
      "data.flurry.com\n",
      "acjs.aliyun.com\n",
      "short.weixin.qq.com\n",
      "u1.sinaimg.cn\n",
      "loc.map.baidu.com\n",
      "m.baidu.com\n",
      "dns.weixin.qq.com\n",
      "oc.umeng.com\n",
      "opensdk.uu.qq.com\n",
      "api.m.renren.com\n",
      "mmsns.qpic.cn\n",
      "channel.api.duapp.com\n",
      "plus.xiangji.qq.com\n",
      "rd.go.10086.cn\n",
      "cgi.connect.qq.com\n",
      "\n",
      "\n",
      "\n",
      "Topic #2:\n",
      "init\n",
      "p01st.push.apple.com\n",
      "ocsp.verisign.com\n",
      "evintl\n",
      "init.ess.apple.com\n",
      "jsync.3g.qq.com\n",
      "ax.init.itunes.apple.com\n",
      "p01md.apple.com\n",
      "configuration.apple.com\n",
      "alog.umeng.com\n",
      "pmir.3g.qq.com\n",
      "mesu.apple.com\n",
      "short.weixin.qq.com\n",
      "kiss.3g.qq.com\n",
      "tile.is.autonavi.com\n",
      "rd.go.10086.cn\n",
      "dns.weixin.qq.com\n",
      "pub.idqqimg.com\n",
      "monitor.uu.qq.com\n",
      "googleads.g.doubleclick.net\n",
      "\n",
      "\n",
      "\n",
      "Topic #3:\n",
      "input.shouji.sogou.com\n",
      "tile.is.autonavi.com\n",
      "mesu.apple.com\n",
      "dns.weixin.qq.com\n",
      "short.weixin.qq.com\n",
      "init\n",
      "logs.baidu.com\n",
      "init.ess.apple.com\n",
      "mobads\n",
      "ocsp.verisign.com\n",
      "configuration.apple.com\n",
      "timg01.baidu\n",
      "evintl\n",
      "img.cn\n",
      "p01st.push.apple.com\n",
      "2img.cn\n",
      "p01md.apple.com\n",
      "m.baidu.com\n",
      "googleads.g.doubleclick.net\n",
      "rd.go.10086.cn\n",
      "\n",
      "\n",
      "\n",
      "Topic #4:\n",
      "loc.map.baidu.com\n",
      "m.baidu.com\n",
      "api.map.baidu.com\n",
      "uc.ucweb.com\n",
      "channel.api.duapp.com\n",
      "cdn.moji001.com\n",
      "ucus.ucweb.com\n",
      "safe.ucweb.com\n",
      "kwurl.ucweb.com\n",
      "monitor.uu.qq.com\n",
      "us.u.uc.cn\n",
      "short.weixin.qq.com\n",
      "alog.umeng.com\n",
      "msoftdl.360.cn\n",
      "show.shouji.360.cn\n",
      "api.weibo.cn\n",
      "mupdate.360.cn\n",
      "oc.umeng.com\n",
      "configsvr.msf.3g.qq.com\n",
      "openbox.mobilem.360.cn\n",
      "\n",
      "\n",
      "\n",
      "Topic #5:\n",
      "msoftdl.360.cn\n",
      "rd.go.10086.cn\n",
      "mupdate.360.cn\n",
      "openbox.mobilem.360.cn\n",
      "show.shouji.360.cn\n",
      "stat.m.360.cn\n",
      "cloudscan.shouji.360.cn\n",
      "cx.shouji.360.cn\n",
      "update.mobilem.360.cn\n",
      "msg.shouji.360.cn\n",
      "short.weixin.qq.com\n",
      "md.openapi.360.cn\n",
      "conf.3g.qq.com\n",
      "configsvr.msf.3g.qq.com\n",
      "monitor.uu.qq.com\n",
      "input.shouji.sogou.com\n",
      "loc.map.baidu.com\n",
      "alog.umeng.com\n",
      "pmir.3g.qq.com\n",
      "data.flurry.com\n",
      "\n",
      "\n",
      "\n",
      "Topic #6:\n",
      "short.weixin.qq.com\n",
      "mmsns.qpic.cn\n",
      "dns.weixin.qq.com\n",
      "pnewsapp.tc.qq.com\n",
      "wx.qlogo.cn\n",
      "mp.weixin.qq.com\n",
      "monitor.uu.qq.com\n",
      "mmbiz.qpic.cn\n",
      "btrace.qq.com\n",
      "opensdk.uu.qq.com\n",
      "view.inews.qq.com\n",
      "m.baidu.com\n",
      "loc.map.baidu.com\n",
      "mat1.gtimg.com\n",
      "configsvr.msf.3g.qq.com\n",
      "init\n",
      "res.wx.qq.com\n",
      "cgi.connect.qq.com\n",
      "p01st.push.apple.com\n",
      "down.qq.com\n",
      "\n",
      "\n",
      "\n",
      "Topic #7:\n",
      "api.weibo.cn\n",
      "wbapp.mobile.sina.cn\n",
      "ww2.sinaimg.cn\n",
      "ww3.sinaimg.cn\n",
      "api.m.renren.com\n",
      "ww4.sinaimg.cn\n",
      "ww1.sinaimg.cn\n",
      "tp4.sinaimg.cn\n",
      "short.weixin.qq.com\n",
      "tp2.sinaimg.cn\n",
      "u1.sinaimg.cn\n",
      "adimg.mobile.sina.cn\n",
      "tp1.sinaimg.cn\n",
      "tp3.sinaimg.cn\n",
      "monitor.uu.qq.com\n",
      "api.m.taobao.com\n",
      "mmsns.qpic.cn\n",
      "dns.weixin.qq.com\n",
      "m.qpic.cn\n",
      "loc.map.baidu.com\n",
      "\n",
      "\n",
      "\n",
      "Topic #8:\n",
      "monitor.uu.qq.com\n",
      "m.qpic.cn\n",
      "qzonestyle.gtimg.cn\n",
      "conf.3g.qq.com\n",
      "plus.xiangji.qq.com\n",
      "qlogo1.store.qq.com\n",
      "short.weixin.qq.com\n",
      "configsvr.msf.3g.qq.com\n",
      "bufferfly.mqsng.qq.com\n",
      "isdspeed.qq.com\n",
      "q2.qlogo.cn\n",
      "q4.qlogo.cn\n",
      "q3.qlogo.cn\n",
      "q1.qlogo.cn\n",
      "wspeed.qq.com\n",
      "mobilelog.kugou.com\n",
      "ugc.qpic.cn\n",
      "pnewsapp.tc.qq.com\n",
      "3gimg.qq.com\n",
      "m.baidu.com\n",
      "\n",
      "\n",
      "\n",
      "Topic #9:\n",
      "mmsc.monternet.com\n",
      "221.131.128.129\n",
      "10.0.0.172\n",
      "conf.3g.qq.com\n",
      "pmir.3g.qq.com\n",
      "monitor.uu.qq.com\n",
      "qzonestyle.gtimg.cn\n",
      "m.baidu.com\n",
      "apoll.m.taobao.com\n",
      "short.weixin.qq.com\n",
      "plus.xiangji.qq.com\n",
      "120.198.199.174\n",
      "rd.go.10086.cn\n",
      "loc.map.baidu.com\n",
      "uc.ucweb.com\n",
      "update.mobilem.360.cn\n",
      "opensdk.uu.qq.com\n",
      "m.qpic.cn\n",
      "adash.m.taobao.com\n",
      "configsvr.msf.3g.qq.com\n",
      "\n",
      "\n",
      "\n",
      "\n"
     ]
    }
   ],
   "source": [
    "def print_top_words(model, feature_names, n_top_words):\n",
    "    for topic_idx, topic in enumerate(model.components_):\n",
    "        print(\"Topic #%d:\" % topic_idx)\n",
    "        print(\"\\n\".join([feature_names[i]\n",
    "                        for i in topic.argsort()[:-n_top_words - 1:-1]]))\n",
    "        print(\"\\n\\n\")\n",
    "    print()\n",
    "    \n",
    "    \n",
    "print(\"Fitting LDA models with tf features, \"\n",
    "      \"n_samples=%s and n_features=%s...\"\n",
    "      % (n_samples, n_features))\n",
    "lda = LatentDirichletAllocation(n_topics=n_topics,\n",
    "                                max_iter=5,\n",
    "                                learning_method='online',\n",
    "                                learning_offset=50.,\n",
    "                                doc_topic_prior = 0.001,\n",
    "                                topic_word_prior = 0.001,\n",
    "#                                 random_state=0,\n",
    "                               )\n",
    "t0 = time()\n",
    "lda.fit(tf)\n",
    "print(\"done in %0.3fs.\" % (time() - t0))\n",
    "\n",
    "print(\"\\nTopics in LDA model:\")\n",
    "tf_feature_names = tf_vectorizer.get_feature_names()\n",
    "print_top_words(lda, tf_feature_names, n_top_words)"
   ]
  },
  {
   "cell_type": "code",
   "execution_count": 95,
   "metadata": {
    "collapsed": false
   },
   "outputs": [],
   "source": [
    "import numpy as np\n",
    "np.savetxt('test.txt', lda.components_, fmt = '%f')"
   ]
  },
  {
   "cell_type": "code",
   "execution_count": 69,
   "metadata": {
    "collapsed": false
   },
   "outputs": [
    {
     "data": {
      "text/plain": [
       "551"
      ]
     },
     "execution_count": 69,
     "metadata": {},
     "output_type": "execute_result"
    }
   ],
   "source": [
    "len(lda.components_[0])"
   ]
  },
  {
   "cell_type": "code",
   "execution_count": 70,
   "metadata": {
    "collapsed": false
   },
   "outputs": [
    {
     "data": {
      "text/plain": [
       "1654"
      ]
     },
     "execution_count": 70,
     "metadata": {},
     "output_type": "execute_result"
    }
   ],
   "source": [
    "len(data_samples)"
   ]
  },
  {
   "cell_type": "code",
   "execution_count": 71,
   "metadata": {
    "collapsed": false
   },
   "outputs": [
    {
     "data": {
      "text/plain": [
       "75"
      ]
     },
     "execution_count": 71,
     "metadata": {},
     "output_type": "execute_result"
    }
   ],
   "source": [
    "len(data_samples[0])"
   ]
  },
  {
   "cell_type": "code",
   "execution_count": 73,
   "metadata": {
    "collapsed": false
   },
   "outputs": [
    {
     "data": {
      "text/plain": [
       "'evintl-ocsp.verisign.com ax.init.itunes.apple.com init-p01st.push.apple.com kiss.3g.qq.com monitor.uu.qq.com apple-mobile.query.yahooapis.com pub.idqqimg.com init-p01st.push.apple.com monitor.uu.qq.com m.qpic.cn init-p01st.push.apple.com monitor.uu.qq.com init-p01st.push.apple.com m.qpic.cn qzonestyle.gtimg.cn m.qpic.cn init.ess.apple.com init-p01md.apple.com init-p01st.push.apple.com 118.26.231.23 ip2.kugou.com rtmonitor.kugou.com ioscdn.kugou.com rtmonitor.kugou.com ioscdn.kugou.com rtmonitor.kugou.com mobileinstall.kugou.com mobileservice.kugou.com mobilelog.kugou.com install2.kugou.com mobilelog.kugou.com rtmonitor.kugou.com mobilelog.kugou.com init-p01md.apple.com init.ess.apple.com svrsecure-g3-aia.verisign.com init-p01md.apple.com init.ess.apple.com init-p01st.push.apple.com m.qpic.cn p.store.qq.com ugc.qpic.cn mmbiz.qpic.cn ugc.qpic.cn m.qpic.cn wspeed.qq.com monitor.uu.qq.com ugc.qpic.cn m.qpic.cn init-p01st.push.apple.com wspeed.qq.com ugc.qpic.cn init-p01md.apple.com init.ess.apple.com short.weixin.qq.com dns.weixin.qq.com short.weixin.qq.com mmsns.qpic.cn mobileservice.kugou.com short.weixin.qq.com www.kugou.com m.kugou.com hm.baidu.com m.kugou.com hm.baidu.com m.kugou.com configuration.apple.com m.kugou.com singerimg.kugou.com storage15.open.kugou.com singerimg.kugou.com mmsns.qpic.cn storage15.cdn.kugou.com mmsns.qpic.cn m.qzone.com short.weixin.qq.com qzonestyle.gtimg.cn short.weixin.qq.com qzonestyle.gtimg.cn m.qzone.com qzonestyle.gtimg.cn short.weixin.qq.com qzonestyle.gtimg.cn m.qzone.com short.weixin.qq.com m.qzone.com short.weixin.qq.com qzonestyle.gtimg.cn m.qzone.com qzonestyle.gtimg.cn pingfore.qq.com m.qzone.com short.weixin.qq.com m.qzone.com short.weixin.qq.com m.qzone.com short.weixin.qq.com qzonestyle.gtimg.cn m.qzone.com short.weixin.qq.com m.qzone.com qzonestyle.gtimg.cn m.qzone.com short.weixin.qq.com m.qzone.com short.weixin.qq.com m.qzone.com qzonestyle.gtimg.cn m.qzone.com short.weixin.qq.com qzonestyle.gtimg.cn m.qzone.com qzonestyle.gtimg.cn m.qzone.com qzonestyle.gtimg.cn m.qzone.com qzonestyle.gtimg.cn m.qzone.com short.weixin.qq.com qzonestyle.gtimg.cn m.qzone.com short.weixin.qq.com qzonestyle.gtimg.cn m.qzone.com qzonestyle.gtimg.cn m.qzone.com qzonestyle.gtimg.cn m.qzone.com qlogo4.store.qq.com m.qzone.com qzonestyle.gtimg.cn blog.z.qq.com pingfore.qq.com blog.z.qq.com qzonestyle.gtimg.cn c.isdspeed.qq.com qlogo4.store.qq.com qzonestyle.gtimg.cn m.qzone.com c.isdspeed.qq.com qzonestyle.gtimg.cn isdspeed.qq.com c.isdspeed.qq.com m.qpic.cn short.weixin.qq.com weixin.qq.com mmsns.qpic.cn weixin.qq.com short.weixin.qq.com wx.qlogo.cn mmsns.qpic.cn init-p01st.push.apple.com short.weixin.qq.com 3gimg.qq.com 117.135.148.53 mat1.gtimg.com m.3g.qq.com 120.196.213.23 m.3g.qq.com mat1.gtimg.com 3gimg.qq.com 120.196.213.24 m.3g.qq.com wx.qlogo.cn 3gimg.qq.com itunes.apple.com short.weixin.qq.com m.3g.qq.com 117.135.148.53 m.3g.qq.com m.qpic.cn init-p01md.apple.com init.ess.apple.com short.weixin.qq.com wx.qlogo.cn dns.weixin.qq.com wx.qlogo.cn short.weixin.qq.com wx.qlogo.cn mmsns.qpic.cn dl.3g.qq.com monitor.uu.qq.com wspeed.qq.com m.qpic.cn init-p01st.push.apple.com ugc.qpic.cn log.wtlogin.qq.com 120.198.199.150 monitor.uu.qq.com wspeed.qq.com 120.198.199.150 dns.weixin.qq.com short.weixin.qq.com dns.weixin.qq.com monitor.uu.qq.com kiss.3g.qq.com 120.198.199.150 m.qpic.cn wspeed.qq.com monitor.uu.qq.com dns.weixin.qq.com short.weixin.qq.com wx.qlogo.cn mmsns.qpic.cn res.wx.qq.com short.weixin.qq.com res.wx.qq.com mp.weixin.qq.com mmsns.qpic.cn mp.weixin.qq.com res.wx.qq.com mmsns.qpic.cn mp.weixin.qq.com mmsns.qpic.cn short.weixin.qq.com mp.weixin.qq.com mmsns.qpic.cn mp.weixin.qq.com mmsns.qpic.cn pnewsapp.tc.qq.com wx.qlogo.cn short.weixin.qq.com mp.weixin.qq.com mmbiz.qpic.cn mp.weixin.qq.com mmsns.qpic.cn short.weixin.qq.com mp.weixin.qq.com mmsns.qpic.cn mp.weixin.qq.com mmsns.qpic.cn short.weixin.qq.com mp.weixin.qq.com mmsns.qpic.cn mp.weixin.qq.com mmsns.qpic.cn mp.weixin.qq.com mmsns.qpic.cn short.weixin.qq.com mp.weixin.qq.com mmsns.qpic.cn mp.weixin.qq.com mmsns.qpic.cn mp.weixin.qq.com mmsns.qpic.cn short.weixin.qq.com mp.weixin.qq.com mmsns.qpic.cn mp.weixin.qq.com mmsns.qpic.cn mp.weixin.qq.com mmsns.qpic.cn short.weixin.qq.com mmsns.qpic.cn wspeed.qq.com m.qpic.cn p.store.qq.com init-p01st.push.apple.com dns.weixin.qq.com wx.qlogo.cn mmsns.qpic.cn wx.qlogo.cn mmsns.qpic.cn wx.qlogo.cn mmsns.qpic.cn wx.qlogo.cn mmsns.qpic.cn short.weixin.qq.com wx.qlogo.cn mmsns.qpic.cn wx.qlogo.cn mmsns.qpic.cn short.weixin.qq.com apple-mobile.query.yahooapis.com short.weixin.qq.com mp.weixin.qq.com mmbiz.qpic.cn mp.weixin.qq.com mmsns.qpic.cn mp.weixin.qq.com mmsns.qpic.cn mp.weixin.qq.com evintl-ocsp.verisign.com ax.init.itunes.apple.com init-p01st.push.apple.com monitor.uu.qq.com conf.3g.qq.com monitor.uu.qq.com pub.idqqimg.com configsvr.msf.3g.qq.com ugc.qpic.cn\\n'"
      ]
     },
     "execution_count": 73,
     "metadata": {},
     "output_type": "execute_result"
    }
   ],
   "source": [
    "data_samples[1]"
   ]
  },
  {
   "cell_type": "code",
   "execution_count": 74,
   "metadata": {
    "collapsed": false
   },
   "outputs": [
    {
     "data": {
      "text/plain": [
       "scipy.sparse.csr.csr_matrix"
      ]
     },
     "execution_count": 74,
     "metadata": {},
     "output_type": "execute_result"
    }
   ],
   "source": [
    "type(tf)"
   ]
  },
  {
   "cell_type": "code",
   "execution_count": 78,
   "metadata": {
    "collapsed": false
   },
   "outputs": [
    {
     "data": {
      "text/plain": [
       "(1654, 551)"
      ]
     },
     "execution_count": 78,
     "metadata": {},
     "output_type": "execute_result"
    }
   ],
   "source": [
    "tf.get_shape()"
   ]
  },
  {
   "cell_type": "code",
   "execution_count": 92,
   "metadata": {
    "collapsed": false
   },
   "outputs": [
    {
     "ename": "TypeError",
     "evalue": "'method' object is not subscriptable",
     "output_type": "error",
     "traceback": [
      "\u001b[0;31m---------------------------------------------------------------------------\u001b[0m",
      "\u001b[0;31mTypeError\u001b[0m                                 Traceback (most recent call last)",
      "\u001b[0;32m<ipython-input-92-9a2e0f1d75a9>\u001b[0m in \u001b[0;36m<module>\u001b[0;34m()\u001b[0m\n\u001b[0;32m----> 1\u001b[0;31m \u001b[0mtf\u001b[0m\u001b[0;34m.\u001b[0m\u001b[0mgetcol\u001b[0m\u001b[0;34m[\u001b[0m\u001b[0;36m0\u001b[0m\u001b[0;34m]\u001b[0m\u001b[0;34m\u001b[0m\u001b[0m\n\u001b[0m",
      "\u001b[0;31mTypeError\u001b[0m: 'method' object is not subscriptable"
     ]
    }
   ],
   "source": [
    "tf.getcol"
   ]
  },
  {
   "cell_type": "code",
   "execution_count": null,
   "metadata": {
    "collapsed": true
   },
   "outputs": [],
   "source": []
  }
 ],
 "metadata": {
  "anaconda-cloud": {},
  "kernelspec": {
   "display_name": "Python [conda root]",
   "language": "python",
   "name": "conda-root-py"
  },
  "language_info": {
   "codemirror_mode": {
    "name": "ipython",
    "version": 3
   },
   "file_extension": ".py",
   "mimetype": "text/x-python",
   "name": "python",
   "nbconvert_exporter": "python",
   "pygments_lexer": "ipython3",
   "version": "3.5.2"
  }
 },
 "nbformat": 4,
 "nbformat_minor": 1
}
