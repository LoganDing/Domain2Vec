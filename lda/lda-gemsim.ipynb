{
 "cells": [
  {
   "cell_type": "code",
   "execution_count": 10,
   "metadata": {
    "collapsed": false
   },
   "outputs": [],
   "source": [
    ">>> from gensim import corpora\n",
    ">>>\n",
    ">>> documents = [\"Human machine interface for lab abc computer applications\",\n",
    ">>>              \"A survey of user opinion of computer system response time\",\n",
    ">>>              \"The EPS user interface management system\",\n",
    ">>>              \"System and human system engineering testing of EPS\",\n",
    ">>>              \"Relation of user perceived response time to error measurement\",\n",
    ">>>              \"The generation of random binary unordered trees\",\n",
    ">>>              \"The intersection graph of paths in trees\",\n",
    ">>>              \"Graph minors IV Widths of trees and well quasi ordering\",\n",
    ">>>              \"Graph minors A survey\"]"
   ]
  },
  {
   "cell_type": "code",
   "execution_count": 11,
   "metadata": {
    "collapsed": false
   },
   "outputs": [],
   "source": [
    ">>> # remove common words and tokenize\n",
    ">>> stoplist = set('for a of the and to in'.split())\n",
    ">>> texts = [[word for word in document.lower().split() if word not in stoplist]\n",
    ">>>          for document in documents]"
   ]
  },
  {
   "cell_type": "code",
   "execution_count": 15,
   "metadata": {
    "collapsed": false
   },
   "outputs": [
    {
     "name": "stdout",
     "output_type": "stream",
     "text": [
      "[['human', 'interface', 'computer'],\n",
      " ['survey', 'user', 'computer', 'system', 'response', 'time'],\n",
      " ['eps', 'user', 'interface', 'system'],\n",
      " ['system', 'human', 'system', 'eps'],\n",
      " ['user', 'response', 'time'],\n",
      " ['trees'],\n",
      " ['graph', 'trees'],\n",
      " ['graph', 'minors', 'trees'],\n",
      " ['graph', 'minors', 'survey']]\n"
     ]
    }
   ],
   "source": [
    ">>> from collections import defaultdict\n",
    ">>> frequency = defaultdict(int)\n",
    ">>> for text in texts:\n",
    ">>>     for token in text:\n",
    ">>>         frequency[token] += 1\n",
    ">>>\n",
    ">>> texts = [[token for token in text if frequency[token] > 1]\n",
    ">>>          for text in texts]\n",
    ">>>\n",
    ">>> from pprint import pprint  # pretty-printer\n",
    ">>> pprint(texts)"
   ]
  },
  {
   "cell_type": "code",
   "execution_count": 16,
   "metadata": {
    "collapsed": false
   },
   "outputs": [
    {
     "name": "stdout",
     "output_type": "stream",
     "text": [
      "Dictionary(12 unique tokens: ['human', 'response', 'system', 'interface', 'graph']...)\n"
     ]
    }
   ],
   "source": [
    ">>> dictionary = corpora.Dictionary(texts)\n",
    ">>> dictionary.save('/tmp/deerwester.dict')  # store the dictionary, for future reference\n",
    ">>> print(dictionary)"
   ]
  },
  {
   "cell_type": "code",
   "execution_count": 18,
   "metadata": {
    "collapsed": false
   },
   "outputs": [
    {
     "name": "stdout",
     "output_type": "stream",
     "text": [
      "{'human': 1, 'response': 6, 'system': 7, 'interface': 0, 'graph': 10, 'survey': 4, 'user': 5, 'minors': 11, 'eps': 8, 'trees': 9, 'computer': 2, 'time': 3}\n"
     ]
    }
   ],
   "source": [
    "print(dictionary.token2id)"
   ]
  },
  {
   "cell_type": "code",
   "execution_count": 19,
   "metadata": {
    "collapsed": false
   },
   "outputs": [
    {
     "name": "stdout",
     "output_type": "stream",
     "text": [
      "[(1, 1), (2, 1)]\n"
     ]
    }
   ],
   "source": [
    ">>> new_doc = \"Human computer interaction\"\n",
    ">>> new_vec = dictionary.doc2bow(new_doc.lower().split())\n",
    ">>> print(new_vec)  # the word \"interaction\" does not appear in the dictionary and is ignored"
   ]
  },
  {
   "cell_type": "code",
   "execution_count": 21,
   "metadata": {
    "collapsed": false
   },
   "outputs": [
    {
     "name": "stdout",
     "output_type": "stream",
     "text": [
      "[[(0, 1), (1, 1), (2, 1)],\n",
      " [(2, 1), (3, 1), (4, 1), (5, 1), (6, 1), (7, 1)],\n",
      " [(0, 1), (5, 1), (7, 1), (8, 1)],\n",
      " [(1, 1), (7, 2), (8, 1)],\n",
      " [(3, 1), (5, 1), (6, 1)],\n",
      " [(9, 1)],\n",
      " [(9, 1), (10, 1)],\n",
      " [(9, 1), (10, 1), (11, 1)],\n",
      " [(4, 1), (10, 1), (11, 1)]]\n"
     ]
    }
   ],
   "source": [
    ">>> corpus = [dictionary.doc2bow(text) for text in texts]\n",
    ">>> corpora.MmCorpus.serialize('/tmp/deerwester.mm', corpus)  # store to disk, for later use\n",
    ">>> pprint(corpus)"
   ]
  },
  {
   "cell_type": "code",
   "execution_count": 24,
   "metadata": {
    "collapsed": false
   },
   "outputs": [],
   "source": [
    "from gensim import corpora, models, similarities\n",
    "tfidf = models.TfidfModel(corpus)\n",
    "corpus_tfidf = tfidf[corpus]"
   ]
  },
  {
   "cell_type": "code",
   "execution_count": 45,
   "metadata": {
    "collapsed": false
   },
   "outputs": [],
   "source": [
    "models.TfidfModel?"
   ]
  },
  {
   "cell_type": "code",
   "execution_count": 43,
   "metadata": {
    "collapsed": false
   },
   "outputs": [
    {
     "name": "stdout",
     "output_type": "stream",
     "text": [
      "[(0, 0.5773502691896257), (1, 0.5773502691896257), (2, 0.5773502691896257)]\n",
      "[(2, 0.44424552527467476), (3, 0.44424552527467476), (4, 0.44424552527467476), (5, 0.3244870206138555), (6, 0.44424552527467476), (7, 0.3244870206138555)]\n",
      "[(0, 0.5710059809418182), (5, 0.4170757362022777), (7, 0.4170757362022777), (8, 0.5710059809418182)]\n",
      "[(1, 0.49182558987264147), (7, 0.7184811607083769), (8, 0.49182558987264147)]\n",
      "[(3, 0.6282580468670046), (5, 0.45889394536615247), (6, 0.6282580468670046)]\n",
      "[(9, 1.0)]\n",
      "[(9, 0.7071067811865475), (10, 0.7071067811865475)]\n",
      "[(9, 0.5080429008916749), (10, 0.5080429008916749), (11, 0.695546419520037)]\n",
      "[(4, 0.6282580468670046), (10, 0.45889394536615247), (11, 0.6282580468670046)]\n"
     ]
    }
   ],
   "source": [
    "for doc in corpus_tfidf:\n",
    "    print(doc)"
   ]
  },
  {
   "cell_type": "code",
   "execution_count": 44,
   "metadata": {
    "collapsed": true
   },
   "outputs": [],
   "source": [
    "model = models.TfidfModel(corpus, normalize=True)"
   ]
  },
  {
   "cell_type": "code",
   "execution_count": null,
   "metadata": {
    "collapsed": true
   },
   "outputs": [],
   "source": []
  },
  {
   "cell_type": "code",
   "execution_count": null,
   "metadata": {
    "collapsed": true
   },
   "outputs": [],
   "source": []
  },
  {
   "cell_type": "code",
   "execution_count": 20,
   "metadata": {
    "collapsed": false
   },
   "outputs": [
    {
     "data": {
      "text/plain": [
       "2"
      ]
     },
     "execution_count": 20,
     "metadata": {},
     "output_type": "execute_result"
    }
   ],
   "source": [
    "1 + 1"
   ]
  },
  {
   "cell_type": "code",
   "execution_count": 19,
   "metadata": {
    "collapsed": false
   },
   "outputs": [
    {
     "ename": "KeyboardInterrupt",
     "evalue": "",
     "output_type": "error",
     "traceback": [
      "\u001b[0;31m---------------------------------------------------------------------------\u001b[0m",
      "\u001b[0;31mKeyboardInterrupt\u001b[0m                         Traceback (most recent call last)",
      "\u001b[0;32m<ipython-input-19-39ec3b2a3dfe>\u001b[0m in \u001b[0;36m<module>\u001b[0;34m()\u001b[0m\n\u001b[1;32m      1\u001b[0m \u001b[0;32mimport\u001b[0m \u001b[0mnumpy\u001b[0m \u001b[0;32mas\u001b[0m \u001b[0mnp\u001b[0m\u001b[0;34m\u001b[0m\u001b[0m\n\u001b[0;32m----> 2\u001b[0;31m \u001b[0mnp\u001b[0m\u001b[0;34m.\u001b[0m\u001b[0msavetxt\u001b[0m\u001b[0;34m(\u001b[0m\u001b[0;34m'test10000.txt'\u001b[0m\u001b[0;34m,\u001b[0m \u001b[0mdata_samples\u001b[0m\u001b[0;34m,\u001b[0m  \u001b[0mfmt\u001b[0m \u001b[0;34m=\u001b[0m \u001b[0;34m'%f'\u001b[0m\u001b[0;34m)\u001b[0m\u001b[0;34m\u001b[0m\u001b[0m\n\u001b[0m",
      "\u001b[0;32m/home/jw/anaconda3/lib/python3.5/site-packages/numpy/lib/npyio.py\u001b[0m in \u001b[0;36msavetxt\u001b[0;34m(fname, X, fmt, delimiter, newline, header, footer, comments)\u001b[0m\n\u001b[1;32m   1103\u001b[0m \u001b[0;34m\u001b[0m\u001b[0m\n\u001b[1;32m   1104\u001b[0m     \u001b[0;32mtry\u001b[0m\u001b[0;34m:\u001b[0m\u001b[0;34m\u001b[0m\u001b[0m\n\u001b[0;32m-> 1105\u001b[0;31m         \u001b[0mX\u001b[0m \u001b[0;34m=\u001b[0m \u001b[0mnp\u001b[0m\u001b[0;34m.\u001b[0m\u001b[0masarray\u001b[0m\u001b[0;34m(\u001b[0m\u001b[0mX\u001b[0m\u001b[0;34m)\u001b[0m\u001b[0;34m\u001b[0m\u001b[0m\n\u001b[0m\u001b[1;32m   1106\u001b[0m \u001b[0;34m\u001b[0m\u001b[0m\n\u001b[1;32m   1107\u001b[0m         \u001b[0;31m# Handle 1-dimensional arrays\u001b[0m\u001b[0;34m\u001b[0m\u001b[0;34m\u001b[0m\u001b[0m\n",
      "\u001b[0;32m/home/jw/anaconda3/lib/python3.5/site-packages/numpy/core/numeric.py\u001b[0m in \u001b[0;36masarray\u001b[0;34m(a, dtype, order)\u001b[0m\n\u001b[1;32m    480\u001b[0m \u001b[0;34m\u001b[0m\u001b[0m\n\u001b[1;32m    481\u001b[0m     \"\"\"\n\u001b[0;32m--> 482\u001b[0;31m     \u001b[0;32mreturn\u001b[0m \u001b[0marray\u001b[0m\u001b[0;34m(\u001b[0m\u001b[0ma\u001b[0m\u001b[0;34m,\u001b[0m \u001b[0mdtype\u001b[0m\u001b[0;34m,\u001b[0m \u001b[0mcopy\u001b[0m\u001b[0;34m=\u001b[0m\u001b[0;32mFalse\u001b[0m\u001b[0;34m,\u001b[0m \u001b[0morder\u001b[0m\u001b[0;34m=\u001b[0m\u001b[0morder\u001b[0m\u001b[0;34m)\u001b[0m\u001b[0;34m\u001b[0m\u001b[0m\n\u001b[0m\u001b[1;32m    483\u001b[0m \u001b[0;34m\u001b[0m\u001b[0m\n\u001b[1;32m    484\u001b[0m \u001b[0;32mdef\u001b[0m \u001b[0masanyarray\u001b[0m\u001b[0;34m(\u001b[0m\u001b[0ma\u001b[0m\u001b[0;34m,\u001b[0m \u001b[0mdtype\u001b[0m\u001b[0;34m=\u001b[0m\u001b[0;32mNone\u001b[0m\u001b[0;34m,\u001b[0m \u001b[0morder\u001b[0m\u001b[0;34m=\u001b[0m\u001b[0;32mNone\u001b[0m\u001b[0;34m)\u001b[0m\u001b[0;34m:\u001b[0m\u001b[0;34m\u001b[0m\u001b[0m\n",
      "\u001b[0;31mKeyboardInterrupt\u001b[0m: "
     ]
    }
   ],
   "source": [
    "import numpy as np\n",
    "np.savetxt('test10000.txt', data_samples,  fmt = '%f')"
   ]
  },
  {
   "cell_type": "code",
   "execution_count": null,
   "metadata": {
    "collapsed": false
   },
   "outputs": [
    {
     "name": "stdout",
     "output_type": "stream",
     "text": [
      "loading dataset\n"
     ]
    }
   ],
   "source": [
    "from __future__ import print_function\n",
    "from time import time\n",
    "\n",
    "from sklearn.feature_extraction.text import TfidfVectorizer, CountVectorizer\n",
    "from sklearn.decomposition import NMF, LatentDirichletAllocation\n",
    "from sklearn.datasets import fetch_20newsgroups\n",
    "from sklearn.datasets import load_files\n",
    "\n",
    "\n",
    "n_samples = 10000\n",
    "n_features = None\n",
    "n_topics = 10\n",
    "n_top_words = 20\n",
    "\n",
    "\n",
    "\n",
    "data_path=\"ldadata\"\n",
    "\n",
    "print(\"loading dataset\")\n",
    "t0 = time()\n",
    "dataset = load_files(data_path, shuffle=False,load_content=True,\n",
    "                     encoding='utf-8',decode_error='ignore')\n",
    "data_samples = dataset.data[:n_samples]"
   ]
  },
  {
   "cell_type": "code",
   "execution_count": null,
   "metadata": {
    "collapsed": false
   },
   "outputs": [],
   "source": [
    "import gensim\n",
    "from gensim import corpora, models, similarities\n",
    "texts = [[word for word in document.split()] for document in data_samples]\n",
    "from collections import defaultdict\n",
    "frequency = defaultdict(int)\n",
    "for text in texts:\n",
    "    for token in text:\n",
    "        frequency[token] += 1\n",
    "\n",
    "# 2844555\n",
    "Threshold = n_samples/10000\n",
    "texts = [[token for token in text \n",
    "          if frequency[token] > Threshold\n",
    "         ]\n",
    "         for text in texts]\n",
    "dictionary = corpora.Dictionary(texts)\n",
    "print(dictionary)"
   ]
  },
  {
   "cell_type": "code",
   "execution_count": null,
   "metadata": {
    "collapsed": false
   },
   "outputs": [],
   "source": [
    "print(dictionary.token2id['m.taobao.com'])\n",
    "corpus = [dictionary.doc2bow(text) for text in texts]\n",
    "tfidf = models.TfidfModel(corpus)\n",
    "corpus_tfidf = tfidf[corpus]\n",
    "corpus_tfidf[0]"
   ]
  },
  {
   "cell_type": "code",
   "execution_count": 15,
   "metadata": {
    "collapsed": false
   },
   "outputs": [
    {
     "data": {
      "text/plain": [
       "[(0,\n",
       "  [('init-p01st.push.apple.com', 0.00082685831038261553),\n",
       "   ('short.weixin.qq.com', 0.000531878611363985),\n",
       "   ('221.131.128.129', 0.00050573981780731043),\n",
       "   ('api.m.taobao.com', 0.00047956383336141424),\n",
       "   ('m.baidu.com', 0.00047352830500232572),\n",
       "   ('monitor.uu.qq.com', 0.00041285912745206861),\n",
       "   ('mp.weixin.qq.com', 0.00040900036164177866),\n",
       "   ('mmsns.qpic.cn', 0.00040867013341684184),\n",
       "   ('api.weibo.cn', 0.00034883367505115587),\n",
       "   ('adash.m.taobao.com', 0.00034825466691656634)]),\n",
       " (1,\n",
       "  [('10.0.0.172', 0.00084414134343776843),\n",
       "   ('init-p01st.push.apple.com', 0.00059159389154682233),\n",
       "   ('m.baidu.com', 0.00056548019847748265),\n",
       "   ('short.weixin.qq.com', 0.00048736304071144126),\n",
       "   ('m.qpic.cn', 0.00045018042394656758),\n",
       "   ('monitor.uu.qq.com', 0.00040922071954413637),\n",
       "   ('api.weibo.cn', 0.00039332804798830037),\n",
       "   ('evintl-ocsp.verisign.com', 0.0003886223151854856),\n",
       "   ('conf.3g.qq.com', 0.00037515781401475235),\n",
       "   ('plus.xiangji.qq.com', 0.00034067844548045869)]),\n",
       " (2,\n",
       "  [('221.131.128.129', 0.00081189613586342543),\n",
       "   ('mmsc.monternet.com', 0.00070575879956969682),\n",
       "   ('init-p01st.push.apple.com', 0.0006375056635846123),\n",
       "   ('api.weibo.cn', 0.00044412578481199314),\n",
       "   ('10.0.0.172', 0.00042234828441892284),\n",
       "   ('short.weixin.qq.com', 0.00039469168978043038),\n",
       "   ('loc.map.baidu.com', 0.00039150435385834766),\n",
       "   ('monitor.uu.qq.com', 0.00037078457727499081),\n",
       "   ('api.m.taobao.com', 0.00033098686193330529),\n",
       "   ('m.qpic.cn', 0.00031492415515936659)]),\n",
       " (3,\n",
       "  [('short.weixin.qq.com', 0.00071143551467456496),\n",
       "   ('monitor.uu.qq.com', 0.00057770761283445051),\n",
       "   ('mmsns.qpic.cn', 0.0004693605500297747),\n",
       "   ('m.baidu.com', 0.0004663768963077135),\n",
       "   ('m.qpic.cn', 0.00044945299682223509),\n",
       "   ('loc.map.baidu.com', 0.00039720322785463295),\n",
       "   ('api.weibo.cn', 0.00039100498851957997),\n",
       "   ('api.m.taobao.com', 0.00037783214406965631),\n",
       "   ('evintl-ocsp.verisign.com', 0.00035893357158149099),\n",
       "   ('init-p01st.push.apple.com', 0.00035827252136580066)]),\n",
       " (4,\n",
       "  [('short.weixin.qq.com', 0.0012031121484633955),\n",
       "   ('mmsns.qpic.cn', 0.00074318476087665414),\n",
       "   ('init-p01st.push.apple.com', 0.00070982153771886078),\n",
       "   ('monitor.uu.qq.com', 0.00061257919151311096),\n",
       "   ('dns.weixin.qq.com', 0.00060912800096863198),\n",
       "   ('m.qpic.cn', 0.00056598072747731808),\n",
       "   ('m.baidu.com', 0.00055558454053321034),\n",
       "   ('configsvr.msf.3g.qq.com', 0.00053864769579122938),\n",
       "   ('mmsc.monternet.com', 0.0004898598376202719),\n",
       "   ('wx.qlogo.cn', 0.0004765840576261789)]),\n",
       " (5,\n",
       "  [('api.m.taobao.com', 0.0006703254490844267),\n",
       "   ('short.weixin.qq.com', 0.00064586782177745072),\n",
       "   ('adash.m.taobao.com', 0.0005521238836217442),\n",
       "   ('m.baidu.com', 0.00052108715804309027),\n",
       "   ('monitor.uu.qq.com', 0.00047356825536220025),\n",
       "   ('m.qpic.cn', 0.00047288137165428111),\n",
       "   ('loc.map.baidu.com', 0.00047167546196598539),\n",
       "   ('init-p01st.push.apple.com', 0.00044119569546398866),\n",
       "   ('mmsns.qpic.cn', 0.00040925082926838427),\n",
       "   ('plus.xiangji.qq.com', 0.00035623131719700221)]),\n",
       " (6,\n",
       "  [('short.weixin.qq.com', 0.00084537623527837665),\n",
       "   ('mmsns.qpic.cn', 0.00074511503171327694),\n",
       "   ('221.131.128.129', 0.00057245848804168234),\n",
       "   ('dns.weixin.qq.com', 0.00051676221024772747),\n",
       "   ('init-p01st.push.apple.com', 0.000502220887309523),\n",
       "   ('api.weibo.cn', 0.00044106825700405739),\n",
       "   ('evintl-ocsp.verisign.com', 0.00042465143092174724),\n",
       "   ('mmsc.monternet.com', 0.00041370514325331654),\n",
       "   ('wx.qlogo.cn', 0.00039362181713715561),\n",
       "   ('monitor.uu.qq.com', 0.00035698957687702959)]),\n",
       " (7,\n",
       "  [('short.weixin.qq.com', 0.00071538317312491695),\n",
       "   ('init-p01st.push.apple.com', 0.00069865400938150875),\n",
       "   ('m.baidu.com', 0.00059450839487589662),\n",
       "   ('monitor.uu.qq.com', 0.00047086757906169484),\n",
       "   ('m.qpic.cn', 0.00046048207363504111),\n",
       "   ('mmsns.qpic.cn', 0.00043721107902900037),\n",
       "   ('loc.map.baidu.com', 0.00043411828657710985),\n",
       "   ('api.weibo.cn', 0.00038555130799848325),\n",
       "   ('dns.weixin.qq.com', 0.00038176176528910725),\n",
       "   ('wx.qlogo.cn', 0.00035892703270546435)]),\n",
       " (8,\n",
       "  [('init-p01st.push.apple.com', 0.00048392118570409143),\n",
       "   ('short.weixin.qq.com', 0.00041378097151002351),\n",
       "   ('mmsns.qpic.cn', 0.00035420376770072204),\n",
       "   ('10.0.0.172', 0.00032610041178269612),\n",
       "   ('wx.qlogo.cn', 0.00032335864825700162),\n",
       "   ('p.3g.163.com', 0.00031527396453232882),\n",
       "   ('m.qpic.cn', 0.00031072541103139997),\n",
       "   ('221.131.128.129', 0.00030303387785697892),\n",
       "   ('mp.weixin.qq.com', 0.0002861770108636542),\n",
       "   ('mobads-logs.baidu.com', 0.00027855693355381141)]),\n",
       " (9,\n",
       "  [('short.weixin.qq.com', 0.00086444622431398161),\n",
       "   ('init-p01st.push.apple.com', 0.00056442727567011515),\n",
       "   ('mmsns.qpic.cn', 0.00055685221077695756),\n",
       "   ('m.qpic.cn', 0.00055190257729945114),\n",
       "   ('monitor.uu.qq.com', 0.00051207845184082204),\n",
       "   ('api.weibo.cn', 0.0004947475588330312),\n",
       "   ('mp.weixin.qq.com', 0.00045521629794467293),\n",
       "   ('m.baidu.com', 0.00044311411013276677),\n",
       "   ('mmbiz.qpic.cn', 0.00035002391006201639),\n",
       "   ('plus.xiangji.qq.com', 0.00033698552904939678)])]"
      ]
     },
     "execution_count": 15,
     "metadata": {},
     "output_type": "execute_result"
    }
   ],
   "source": [
    "lda = gensim.models.ldamulticore.LdaMulticore(corpus=corpus_tfidf, alpha= 0.01, eta = 0.01,id2word=dictionary, num_topics=10, offset = 50.0, chunksize=10000)\n",
    "lda.show_topics(num_topics = 10, num_words = 10, formatted = False)"
   ]
  },
  {
   "cell_type": "code",
   "execution_count": null,
   "metadata": {
    "collapsed": false
   },
   "outputs": [],
   "source": [
    "len(data_samples)"
   ]
  },
  {
   "cell_type": "code",
   "execution_count": null,
   "metadata": {
    "collapsed": false
   },
   "outputs": [],
   "source": [
    "len(dictionary)"
   ]
  },
  {
   "cell_type": "code",
   "execution_count": 196,
   "metadata": {
    "collapsed": true
   },
   "outputs": [],
   "source": [
    "gensim.models.ldamulticore.LdaMulticore?"
   ]
  },
  {
   "cell_type": "code",
   "execution_count": 5,
   "metadata": {
    "collapsed": false
   },
   "outputs": [
    {
     "data": {
      "text/plain": [
       "100000"
      ]
     },
     "execution_count": 5,
     "metadata": {},
     "output_type": "execute_result"
    }
   ],
   "source": [
    "len(corpus_tfidf)"
   ]
  },
  {
   "cell_type": "code",
   "execution_count": 7,
   "metadata": {
    "collapsed": false
   },
   "outputs": [
    {
     "data": {
      "text/plain": [
       "3415"
      ]
     },
     "execution_count": 7,
     "metadata": {},
     "output_type": "execute_result"
    }
   ],
   "source": [
    "len(dataset.data[0])"
   ]
  },
  {
   "cell_type": "code",
   "execution_count": null,
   "metadata": {
    "collapsed": true
   },
   "outputs": [],
   "source": []
  }
 ],
 "metadata": {
  "anaconda-cloud": {},
  "kernelspec": {
   "display_name": "Python [default]",
   "language": "python",
   "name": "python3"
  },
  "language_info": {
   "codemirror_mode": {
    "name": "ipython",
    "version": 3
   },
   "file_extension": ".py",
   "mimetype": "text/x-python",
   "name": "python",
   "nbconvert_exporter": "python",
   "pygments_lexer": "ipython3",
   "version": "3.5.2"
  }
 },
 "nbformat": 4,
 "nbformat_minor": 1
}
