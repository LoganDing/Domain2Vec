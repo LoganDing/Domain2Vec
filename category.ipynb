{
 "cells": [
  {
   "cell_type": "code",
   "execution_count": 14,
   "metadata": {
    "collapsed": false
   },
   "outputs": [
    {
     "data": {
      "text/plain": [
       "1227729"
      ]
     },
     "execution_count": 14,
     "metadata": {},
     "output_type": "execute_result"
    }
   ],
   "source": [
    "filePath=\"/media/jw/5dccc50e-7c13-4186-bf6b-d894f02410be/data/userurl/gn/cm/jiangsu/nanjing/20131228/39server/userurl_20131228_195135_001039*\"\n",
    "lines = sc.textFile(filePath)\n",
    "parts = lines.map(lambda l: l.split(\"\\t\")).filter(lambda line : len(line)==88)\n",
    "parts.count()"
   ]
  },
  {
   "cell_type": "code",
   "execution_count": 15,
   "metadata": {
    "collapsed": false
   },
   "outputs": [],
   "source": [
    "# category domain\n",
    "outPath=\"/media/jw/5dccc50e-7c13-4186-bf6b-d894f02410be/result_jw/category/category_domain\"\n",
    "category=parts.map(lambda  p: (p[59],p[35]))\n",
    "category=category.distinct()\n",
    "# category.repartition(1)\n",
    "def add(a, b): \n",
    "#     if b not in a :\n",
    "#         a.append(b)\n",
    "    a.append(b)\n",
    "    return a \n",
    "category_flow=category.foldByKey([],add)\n",
    "\n",
    "import shutil \n",
    "if os.path.exists(outPath):\n",
    "    shutil.rmtree(outPath)\n",
    "category_flow.repartition(1).saveAsTextFile(outPath)"
   ]
  },
  {
   "cell_type": "code",
   "execution_count": 16,
   "metadata": {
    "collapsed": true
   },
   "outputs": [],
   "source": [
    "# label domain\n",
    "outPath=\"/media/jw/5dccc50e-7c13-4186-bf6b-d894f02410be/result_jw/category/label_domain\"\n",
    "category=parts.map(lambda  p: (p[60],p[35]))\n",
    "category=category.distinct()\n",
    "category_flow=category.foldByKey([],add)\n",
    "\n",
    "import shutil \n",
    "if os.path.exists(outPath):\n",
    "    shutil.rmtree(outPath)\n",
    "category_flow.repartition(1).saveAsTextFile(outPath)"
   ]
  },
  {
   "cell_type": "code",
   "execution_count": 17,
   "metadata": {
    "collapsed": true
   },
   "outputs": [],
   "source": [
    "# category url\n",
    "\n",
    "def map_category_function(p):\n",
    "    if p[38] == '-':\n",
    "        return (p[59],p[35])\n",
    "    else:\n",
    "        return (p[59],p[35]+p[38])\n",
    "    \n",
    "    \n",
    "outPath=\"/media/jw/5dccc50e-7c13-4186-bf6b-d894f02410be/result_jw/category/category_url\"\n",
    "category=parts.map(lambda  p: map_category_function(p))\n",
    "category=category.distinct()\n",
    "category_flow=category.foldByKey([],add)\n",
    "\n",
    "import shutil \n",
    "if os.path.exists(outPath):\n",
    "    shutil.rmtree(outPath)\n",
    "category_flow.repartition(1).saveAsTextFile(outPath)"
   ]
  },
  {
   "cell_type": "code",
   "execution_count": 18,
   "metadata": {
    "collapsed": true
   },
   "outputs": [],
   "source": [
    "# label url\n",
    "outPath=\"/media/jw/5dccc50e-7c13-4186-bf6b-d894f02410be/result_jw/category/label_url\"\n",
    "def map_label_function(p):\n",
    "    if p[38] == '-':\n",
    "        return (p[60],p[35])\n",
    "    else:\n",
    "        return (p[60],p[35]+p[38])\n",
    "    \n",
    "category=category.distinct()\n",
    "category=parts.map(lambda  p: map_label_function(p))\n",
    "category.distinct()\n",
    "\n",
    "category_flow=category.foldByKey([],add)\n",
    "\n",
    "import shutil \n",
    "if os.path.exists(outPath):\n",
    "    shutil.rmtree(outPath)\n",
    "category_flow.repartition(1).saveAsTextFile(outPath)"
   ]
  }
 ],
 "metadata": {
  "anaconda-cloud": {},
  "kernelspec": {
   "display_name": "Python [conda root]",
   "language": "python",
   "name": "conda-root-py"
  },
  "language_info": {
   "codemirror_mode": {
    "name": "ipython",
    "version": 3
   },
   "file_extension": ".py",
   "mimetype": "text/x-python",
   "name": "python",
   "nbconvert_exporter": "python",
   "pygments_lexer": "ipython3",
   "version": "3.5.2"
  }
 },
 "nbformat": 4,
 "nbformat_minor": 1
}
