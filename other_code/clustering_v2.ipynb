{
 "cells": [
  {
   "cell_type": "markdown",
   "metadata": {},
   "source": [
    "## 特征提取"
   ]
  },
  {
   "cell_type": "code",
   "execution_count": 2,
   "metadata": {
    "collapsed": true
   },
   "outputs": [],
   "source": [
    "import psycopg2\n",
    "from sklearn.feature_extraction import DictVectorizer"
   ]
  },
  {
   "cell_type": "code",
   "execution_count": 3,
   "metadata": {
    "collapsed": false
   },
   "outputs": [],
   "source": [
    "try:\n",
    "    conn = psycopg2.connect(\"dbname='dpitest' user='cndmptest' host='60.205.147.49' password='Cptbtptp1401^'\")\n",
    "    #conn = psycopg2.connect(\"dbname='spiderdb' user='bupt_ant' host='10.105.32.54' password='123$%^qwe'\")\n",
    "except:\n",
    "    print(\"cannot connect to the database!\")"
   ]
  },
  {
   "cell_type": "markdown",
   "metadata": {},
   "source": [
    "ip-category-pv"
   ]
  },
  {
   "cell_type": "code",
   "execution_count": 4,
   "metadata": {
    "collapsed": false
   },
   "outputs": [],
   "source": [
    "cur0 = conn.cursor()\n",
    "\"\"\"select res.ip,res.category,sum(res.pv) from \n",
    "(select tag.ip,tag.pv,tag.rule_code,tag.series_code,s.series_name,s.category,rul.website_custom,tag.report_date\n",
    "from gauss_car_dpiusertag tag \n",
    "left join gauss_car_mrrule rul on tag.rule_code=rul.code \n",
    "join gauss_car_series s on (s.series_code=tag.series_code and s.web_code=rul.website_custom)\n",
    "where tag.ip in (select ip from gauss_car_dpiusertag group by ip having sum(pv)>100)) res \n",
    "group by res.ip,res.category order by res.ip,res.category\"\"\"\n",
    "cur0.execute(\"\"\"select res.ip,res.category,sum(res.pv) from\n",
    "(select dpi.ip,dpi.pv,dpi.series_code,s.category,s.series_name\n",
    "from dpiTop dpi\n",
    "join gauss_car_mrrule rul on dpi.rule_code=rul.code \n",
    "join gauss_car_series s on (s.series_code=dpi.series_code and s.web_code=rul.website_custom)) res\n",
    "group by res.ip,res.category\n",
    "order by res.ip,res.category\"\"\")"
   ]
  },
  {
   "cell_type": "code",
   "execution_count": 5,
   "metadata": {
    "collapsed": true
   },
   "outputs": [],
   "source": [
    "ip_category = cur0.fetchall()"
   ]
  },
  {
   "cell_type": "code",
   "execution_count": 6,
   "metadata": {
    "collapsed": false
   },
   "outputs": [
    {
     "name": "stdout",
     "output_type": "stream",
     "text": [
      "59964\n",
      "[('101.224.239.140', 'SUV', 39), ('101.224.239.140', '中型SUV ', 8), ('101.224.239.140', '中型车', 24), ('101.224.239.140', '中大型车', 4), ('101.224.239.140', '小型SUV ', 4), ('101.224.239.140', '小型车', 2), ('101.224.239.140', '紧凑型车', 54), ('101.224.239.140', '跑车', 2), ('101.224.239.140', None, 5), ('101.226.221.42', 'MPV ', 9)]\n"
     ]
    }
   ],
   "source": [
    "print(len(ip_category))\n",
    "print(ip_category[:10])"
   ]
  },
  {
   "cell_type": "code",
   "execution_count": null,
   "metadata": {
    "collapsed": true
   },
   "outputs": [],
   "source": []
  },
  {
   "cell_type": "markdown",
   "metadata": {},
   "source": [
    "ip-province"
   ]
  },
  {
   "cell_type": "code",
   "execution_count": 7,
   "metadata": {
    "collapsed": true
   },
   "outputs": [],
   "source": [
    "cur1 = conn.cursor()"
   ]
  },
  {
   "cell_type": "code",
   "execution_count": 8,
   "metadata": {
    "collapsed": false
   },
   "outputs": [],
   "source": [
    "cur1.execute(\"select distinct ip,province from dpiTop order by ip\")"
   ]
  },
  {
   "cell_type": "code",
   "execution_count": 9,
   "metadata": {
    "collapsed": true
   },
   "outputs": [],
   "source": [
    "ip_province = cur1.fetchall()"
   ]
  },
  {
   "cell_type": "code",
   "execution_count": 10,
   "metadata": {
    "collapsed": false
   },
   "outputs": [
    {
     "name": "stdout",
     "output_type": "stream",
     "text": [
      "5117\n",
      "[('101.224.239.140', 'shanghai'), ('101.226.221.42', 'zhejiang'), ('101.228.81.112', 'shanghai'), ('101.228.89.24', 'shanghai'), ('101.228.99.190', 'shanghai'), ('101.229.1.71', 'shanghai'), ('101.229.251.173', 'shanghai'), ('101.230.193.54', 'shanghai'), ('101.230.213.210', 'shanghai'), ('101.231.138.254', 'shanghai')]\n"
     ]
    }
   ],
   "source": [
    "print(len(ip_province))\n",
    "print(ip_province[:10])"
   ]
  },
  {
   "cell_type": "code",
   "execution_count": null,
   "metadata": {
    "collapsed": true
   },
   "outputs": [],
   "source": []
  },
  {
   "cell_type": "markdown",
   "metadata": {},
   "source": [
    "ip-series_code-pv"
   ]
  },
  {
   "cell_type": "code",
   "execution_count": 11,
   "metadata": {
    "collapsed": true
   },
   "outputs": [],
   "source": [
    "cur2 = conn.cursor()\n",
    "cur2.execute(\"\"\"select res.ip,res.series_name,sum(res.pv) from\n",
    "(select dpi.ip,dpi.pv,dpi.series_code,s.category,s.series_name\n",
    "from dpiTop dpi\n",
    "join gauss_car_mrrule rul on dpi.rule_code=rul.code \n",
    "join gauss_car_series s on (s.series_code=dpi.series_code and s.web_code=rul.website_custom)) res\n",
    "group by res.ip,res.series_name\n",
    "order by res.ip,res.series_name\"\"\")"
   ]
  },
  {
   "cell_type": "code",
   "execution_count": 12,
   "metadata": {
    "collapsed": true
   },
   "outputs": [],
   "source": [
    "ip_series = cur2.fetchall()"
   ]
  },
  {
   "cell_type": "code",
   "execution_count": 13,
   "metadata": {
    "collapsed": false
   },
   "outputs": [
    {
     "name": "stdout",
     "output_type": "stream",
     "text": [
      "355535\n",
      "[('101.224.239.140', 'GX6', 8), ('101.224.239.140', 'Yeti', 4), ('101.224.239.140', '丰田86', 2), ('101.224.239.140', '传祺GA8', 2), ('101.224.239.140', '卡罗拉', 2), ('101.224.239.140', '吉利博瑞', 17), ('101.224.239.140', '吉利博越', 5), ('101.224.239.140', '吉利帝豪EV', 1), ('101.224.239.140', '吉利帝豪GL', 3), ('101.224.239.140', '吉利新帝豪三厢', 1)]\n"
     ]
    }
   ],
   "source": [
    "print(len(ip_series))\n",
    "print(ip_series[:10])"
   ]
  },
  {
   "cell_type": "code",
   "execution_count": null,
   "metadata": {
    "collapsed": true
   },
   "outputs": [],
   "source": []
  },
  {
   "cell_type": "code",
   "execution_count": null,
   "metadata": {
    "collapsed": true
   },
   "outputs": [],
   "source": []
  },
  {
   "cell_type": "markdown",
   "metadata": {},
   "source": [
    "ip-rule_code-pv"
   ]
  },
  {
   "cell_type": "code",
   "execution_count": 14,
   "metadata": {
    "collapsed": true
   },
   "outputs": [],
   "source": [
    "cur3 = conn.cursor()\n",
    "cur3.execute(\"select ip,rule_code,sum(pv) from dpitop group by ip,rule_code order by ip,rule_code\")"
   ]
  },
  {
   "cell_type": "code",
   "execution_count": 15,
   "metadata": {
    "collapsed": true
   },
   "outputs": [],
   "source": [
    "ip_ruleCode = cur3.fetchall()"
   ]
  },
  {
   "cell_type": "code",
   "execution_count": 16,
   "metadata": {
    "collapsed": false
   },
   "outputs": [
    {
     "name": "stdout",
     "output_type": "stream",
     "text": [
      "32682\n",
      "[('101.224.239.140', '100_400', 2), ('101.224.239.140', '100_402', 2), ('101.224.239.140', '101_200', 44), ('101.224.239.140', '101_202', 68), ('101.224.239.140', '101_206', 62), ('101.224.239.140', '101_207', 1), ('101.224.239.140', '101_208', 2), ('101.224.239.140', '101_213', 2), ('101.224.239.140', '101_400', 2), ('101.224.239.140', '101_402', 3)]\n"
     ]
    }
   ],
   "source": [
    "print(len(ip_ruleCode))\n",
    "print(ip_ruleCode[:10])"
   ]
  },
  {
   "cell_type": "markdown",
   "metadata": {},
   "source": [
    "all_ip"
   ]
  },
  {
   "cell_type": "code",
   "execution_count": 17,
   "metadata": {
    "collapsed": true
   },
   "outputs": [],
   "source": [
    "cur4 = conn.cursor()\n",
    "cur4.execute(\"select distinct ip from dpitop order by ip\")"
   ]
  },
  {
   "cell_type": "code",
   "execution_count": 18,
   "metadata": {
    "collapsed": true
   },
   "outputs": [],
   "source": [
    "all_ip = cur4.fetchall()"
   ]
  },
  {
   "cell_type": "code",
   "execution_count": 19,
   "metadata": {
    "collapsed": false
   },
   "outputs": [
    {
     "name": "stdout",
     "output_type": "stream",
     "text": [
      "4971\n",
      "[('101.224.239.140',), ('101.226.221.42',), ('101.228.81.112',), ('101.228.89.24',), ('101.228.99.190',), ('101.229.1.71',), ('101.229.251.173',), ('101.230.193.54',), ('101.230.213.210',), ('101.231.138.254',)]\n"
     ]
    }
   ],
   "source": [
    "print(len(all_ip))\n",
    "print(all_ip[:10])"
   ]
  },
  {
   "cell_type": "markdown",
   "metadata": {},
   "source": [
    "整合数据"
   ]
  },
  {
   "cell_type": "code",
   "execution_count": 20,
   "metadata": {
    "collapsed": true
   },
   "outputs": [],
   "source": [
    "all_data = {}\n",
    "for item in all_ip:\n",
    "    all_data[item[0]] = {}"
   ]
  },
  {
   "cell_type": "code",
   "execution_count": 21,
   "metadata": {
    "collapsed": false
   },
   "outputs": [
    {
     "name": "stdout",
     "output_type": "stream",
     "text": [
      "{}\n"
     ]
    }
   ],
   "source": [
    "print(all_data['101.224.239.140'])"
   ]
  },
  {
   "cell_type": "code",
   "execution_count": 22,
   "metadata": {
    "collapsed": true
   },
   "outputs": [],
   "source": [
    "for pro in ip_province:\n",
    "    all_data[pro[0]]['province'] = pro[-1]"
   ]
  },
  {
   "cell_type": "code",
   "execution_count": 23,
   "metadata": {
    "collapsed": false
   },
   "outputs": [
    {
     "name": "stdout",
     "output_type": "stream",
     "text": [
      "{'province': 'shanghai'}\n"
     ]
    }
   ],
   "source": [
    "print(all_data['101.224.239.140'])"
   ]
  },
  {
   "cell_type": "code",
   "execution_count": 24,
   "metadata": {
    "collapsed": false
   },
   "outputs": [],
   "source": [
    "for cat in ip_category:\n",
    "    if cat[1] is not None and cat[1] != 'null':\n",
    "        all_data[cat[0]][cat[1].strip()] = 0"
   ]
  },
  {
   "cell_type": "code",
   "execution_count": 25,
   "metadata": {
    "collapsed": false
   },
   "outputs": [
    {
     "name": "stdout",
     "output_type": "stream",
     "text": [
      "{'跑车': 0, '紧凑型SUV': 0, 'province': 'shanghai', '中大型车': 0, '中型车': 0, '大型SUV': 0, '中大型SUV': 0, '中型SUV': 0}\n"
     ]
    }
   ],
   "source": [
    "print(all_data['101.228.81.112'])"
   ]
  },
  {
   "cell_type": "code",
   "execution_count": 26,
   "metadata": {
    "collapsed": true
   },
   "outputs": [],
   "source": [
    "for cat in ip_category:\n",
    "    if cat[1] is not None and cat[1] != 'null':\n",
    "        all_data[cat[0]][cat[1].strip()] += cat[2]"
   ]
  },
  {
   "cell_type": "code",
   "execution_count": 27,
   "metadata": {
    "collapsed": false
   },
   "outputs": [
    {
     "name": "stdout",
     "output_type": "stream",
     "text": [
      "{'跑车': 5, '紧凑型SUV': 25, 'province': 'shanghai', '中大型车': 45, '中型车': 1, '大型SUV': 10, '中大型SUV': 118, '中型SUV': 329}\n"
     ]
    }
   ],
   "source": [
    "print(all_data['101.228.81.112'])"
   ]
  },
  {
   "cell_type": "code",
   "execution_count": 28,
   "metadata": {
    "collapsed": true
   },
   "outputs": [],
   "source": [
    "for rul in ip_ruleCode:\n",
    "    key = rul[1]\n",
    "    if key is None:\n",
    "        key = 'non-rule'\n",
    "    all_data[rul[0]][key] = rul[2]"
   ]
  },
  {
   "cell_type": "code",
   "execution_count": 29,
   "metadata": {
    "collapsed": false
   },
   "outputs": [
    {
     "name": "stdout",
     "output_type": "stream",
     "text": [
      "{'100_402': 2, '跑车': 2, '101_202': 68, '101_200': 44, '100_400': 2, '中大型车': 4, 'province': 'shanghai', '小型SUV': 4, '紧凑型车': 54, '101_208': 2, '101_402': 3, '101_400': 2, '101_206': 62, '101_207': 1, '小型车': 2, '中型车': 24, '中型SUV': 8, 'SUV': 39, '101_213': 2}\n"
     ]
    }
   ],
   "source": [
    "print(all_data['101.224.239.140'])"
   ]
  },
  {
   "cell_type": "code",
   "execution_count": 30,
   "metadata": {
    "collapsed": true
   },
   "outputs": [],
   "source": [
    "for ser in ip_series:\n",
    "    key = ser[1]\n",
    "    if key is not None and key != 'null':\n",
    "        all_data[ser[0]][ser[1]] = ser[2]"
   ]
  },
  {
   "cell_type": "code",
   "execution_count": 31,
   "metadata": {
    "collapsed": false
   },
   "outputs": [
    {
     "name": "stdout",
     "output_type": "stream",
     "text": [
      "{'100_402': 2, '吉利帝豪EV': 1, '跑车': 2, '中大型车': 4, '吉利新帝豪三厢': 1, '小型SUV': 4, 'Yeti': 4, '101_207': 1, '丰田86': 2, '荣威RX5': 29, '威朗VERANO': 4, '小型车': 2, '中型车': 24, '福克斯两厢': 1, '传祺GA8': 2, '威朗轿跑': 1, '101_208': 2, 'GX6': 8, '紧凑型车': 54, '骐达TIIDA': 4, '吉利博瑞': 17, '卡罗拉': 2, '吉利博越': 5, '翼搏': 2, '中型SUV': 8, '101_202': 68, 'SUV': 39, '君威': 1, '高尔夫': 2, '荣威350': 2, '100_400': 2, '新蒙迪欧': 2, '101_400': 2, '尚酷(进口)': 1, '君越': 2, '飞度': 2, '英朗': 2, '101_200': 44, '长安CS15': 4, '吉利帝豪GL': 3, '瑞风S3': 2, '朗逸': 3, '朗动': 4, '福克斯三厢': 1, 'province': 'shanghai', '思域': 1, '雪铁龙C3-XR': 2, '速腾': 8, '101_206': 62, '起亚K5': 4, '101_402': 3, '标致408': 13, '101_213': 2}\n"
     ]
    }
   ],
   "source": [
    "print(all_data['101.224.239.140'])"
   ]
  },
  {
   "cell_type": "code",
   "execution_count": 32,
   "metadata": {
    "collapsed": false
   },
   "outputs": [],
   "source": [
    "all_data_key = []\n",
    "all_data_value = []\n",
    "for key,val in all_data.items():\n",
    "    all_data_key.append(key)\n",
    "    all_data_value.append(val)"
   ]
  },
  {
   "cell_type": "code",
   "execution_count": 33,
   "metadata": {
    "collapsed": false
   },
   "outputs": [
    {
     "name": "stdout",
     "output_type": "stream",
     "text": [
      "['220.171.106.194', '115.182.24.99', '124.228.191.240', '117.94.120.114', '202.100.233.53', '139.205.148.240', '112.67.82.148', '60.169.119.74', '115.234.98.237', '120.68.43.6']\n",
      "{'101_501': 1, '奥迪Q5': 1, '小型SUV': 35, '爱丽舍': 68, '宝沃BX7': 9, '撼路者': 10, '奇骏': 13, '中大型车': 5, '中型SUV': 39, '奔驰GLC': 16, '豪华车': 2, '绅宝D70': 1, '宝来两厢': 1, '普拉多': 14, '哈弗H1': 24, '轩逸': 73, '101_102': 37, 'Equinox': 3, '中型车': 17, '新轩逸': 16, '马自达CX-4': 2, '途观': 20, 'Equinox(海外)': 1, '哈弗H6': 14, '博越': 13, '传祺GA8': 8, '微型车': 5, '中大型SUV': 25, '传祺GS8': 40, '宝马4系': 1, '陆风X7': 13, '紧凑型车': 84, '锐界': 14, '野马T70': 12, '马自达CX-5': 2, '帝豪GS': 12, '雅特': 1, '101_202': 21, 'SUV': 19, '马自达2': 1, '熊猫': 17, '101_304': 2, '101_109': 10, '奔驰S级(进口)': 2, '101_100': 11, '101_503': 6, 'MODEL S': 1, '五菱宏光': 10, '阿特兹': 28, '观致3': 78, '锋驭': 13, '101_209': 1, '猎豹CS10': 33, '凯迪拉克ATS-L': 13, '比亚迪S7': 2, 'MPV': 4, '蓝鸟': 1, '逍客': 19, '101_103': 6, '蒂维拉': 22, '朗逸': 24, '帕萨特': 1, '101_200': 4, '紧凑型SUV': 55, '吉利SX7': 6, 'province': 'xinjiang', '速腾': 1, '捷达': 2, '101_206': 8, '猎豹CS6': 10, '欧蓝德': 11, '100_503': 8, '驭胜S350': 16, '101_105': 3, '元': 24, '长安CS75': 14, '101_101': 2, '101_104': 10}\n"
     ]
    }
   ],
   "source": [
    "print(all_data_key[:10])\n",
    "print(all_data_value[0])"
   ]
  },
  {
   "cell_type": "code",
   "execution_count": 34,
   "metadata": {
    "collapsed": false
   },
   "outputs": [
    {
     "name": "stdout",
     "output_type": "stream",
     "text": [
      "{'跑车': 12, '普莱特': 1, '公爵(进口)': 2, 'Cross桑塔纳': 2, '雅力士': 1, '大众Eos(进口)': 10, '中大型车': 3, '101_204': 9, '北京现代ix25': 2, '小型车': 5, '中型车': 5, '欧迪玛(进口)': 1, '标致2008': 2, '考斯特(进口)': 1, '福克斯两厢': 12, '朗境': 4, '微型车': 1, '标致RCZ(进口)': 1, '紧凑型车': 85, '骐达TIIDA': 22, '翼搏': 4, '起亚KX3': 1, '格越(进口)': 3, '标致2008（进口）': 1, '高尔夫': 10, '101_202': 97, '林肯MKX(进口)': 14, 'SUV': 21, '陆地巡洋舰': 1, '高尔夫 嘉旅': 1, '宝驹': 1, 'K5（进口）': 1, '英朗': 3, '本田XR-V': 3, '帕萨特': 1, 'MPV': 2, '哥瑞': 3, 'Golf旅行轿车': 1, '朗逸': 5, '逍客': 2, '101_200': 37, 'province': 'shanghai', '嘉华': 1, '思域': 1, '朗行': 17, 'Teramont': 1, '101_206': 61, '客车': 1, '辉昂': 1, '福睿斯': 1, '起亚嘉华(进口)': 1, '丰田赛利卡(进口)': 1, '一汽-大众CC': 2, '桑塔纳·浩纳': 6}\n"
     ]
    }
   ],
   "source": [
    "print(all_data['180.174.187.23'])"
   ]
  },
  {
   "cell_type": "code",
   "execution_count": 35,
   "metadata": {
    "collapsed": false
   },
   "outputs": [
    {
     "data": {
      "text/plain": [
       "4478"
      ]
     },
     "execution_count": 35,
     "metadata": {},
     "output_type": "execute_result"
    }
   ],
   "source": [
    "#all_data_value[all_data_key.index('101.224.239.140')]\n",
    "all_data_key.index('101.224.239.140')"
   ]
  },
  {
   "cell_type": "code",
   "execution_count": 36,
   "metadata": {
    "collapsed": true
   },
   "outputs": [],
   "source": [
    "vec = DictVectorizer()"
   ]
  },
  {
   "cell_type": "code",
   "execution_count": 37,
   "metadata": {
    "collapsed": false
   },
   "outputs": [],
   "source": [
    "features = vec.fit_transform(all_data_value).toarray()"
   ]
  },
  {
   "cell_type": "code",
   "execution_count": 38,
   "metadata": {
    "collapsed": false
   },
   "outputs": [
    {
     "name": "stdout",
     "output_type": "stream",
     "text": [
      "(4971, 4876)\n"
     ]
    }
   ],
   "source": [
    "print(features.shape)"
   ]
  },
  {
   "cell_type": "code",
   "execution_count": 39,
   "metadata": {
    "collapsed": false
   },
   "outputs": [
    {
     "name": "stdout",
     "output_type": "stream",
     "text": [
      "[ 0.  0.  0. ...,  0.  0.  0.]\n"
     ]
    }
   ],
   "source": [
    "print(features[1584])"
   ]
  },
  {
   "cell_type": "code",
   "execution_count": 40,
   "metadata": {
    "collapsed": false
   },
   "outputs": [
    {
     "name": "stdout",
     "output_type": "stream",
     "text": [
      "4876\n",
      "['01概念车', '100P', '100_300', '100_302', '100_303', '100_304', '100_305', '100_306', '100_307', '100_308', '100_400', '100_402', '100_403', '100_404', '100_405', '100_406', '100_407', '100_408', '100_410', '100_411']\n"
     ]
    }
   ],
   "source": [
    "print(len(vec.get_feature_names()))\n",
    "all_features = vec.get_feature_names()\n",
    "print(all_features[:20])"
   ]
  },
  {
   "cell_type": "code",
   "execution_count": 41,
   "metadata": {
    "collapsed": true
   },
   "outputs": [],
   "source": [
    "from time import time\n",
    "import numpy as np\n",
    "import matplotlib.pyplot as plt\n",
    "from matplotlib import offsetbox\n",
    "from sklearn import (manifold, datasets, decomposition, ensemble,\n",
    "                     discriminant_analysis, random_projection)"
   ]
  },
  {
   "cell_type": "code",
   "execution_count": null,
   "metadata": {
    "collapsed": false
   },
   "outputs": [],
   "source": []
  },
  {
   "cell_type": "markdown",
   "metadata": {},
   "source": [
    "##### normalize features"
   ]
  },
  {
   "cell_type": "code",
   "execution_count": 42,
   "metadata": {
    "collapsed": true
   },
   "outputs": [],
   "source": [
    "from sklearn.preprocessing import normalize"
   ]
  },
  {
   "cell_type": "code",
   "execution_count": 43,
   "metadata": {
    "collapsed": true
   },
   "outputs": [],
   "source": [
    "normalized_features = normalize(features, axis=0, norm='max')"
   ]
  },
  {
   "cell_type": "code",
   "execution_count": 44,
   "metadata": {
    "collapsed": false
   },
   "outputs": [
    {
     "data": {
      "text/plain": [
       "(4971, 4876)"
      ]
     },
     "execution_count": 44,
     "metadata": {},
     "output_type": "execute_result"
    }
   ],
   "source": [
    "normalized_features.shape"
   ]
  },
  {
   "cell_type": "markdown",
   "metadata": {},
   "source": [
    "## Clustering"
   ]
  },
  {
   "cell_type": "code",
   "execution_count": 45,
   "metadata": {
    "collapsed": true
   },
   "outputs": [],
   "source": [
    "from scipy.spatial.distance import cdist, pdist\n",
    "from sklearn.metrics import silhouette_score\n",
    "import matplotlib.pyplot as plt\n",
    "from sklearn.cluster import KMeans,MiniBatchKMeans,DBSCAN,AgglomerativeClustering\n",
    "import numpy as np"
   ]
  },
  {
   "cell_type": "markdown",
   "metadata": {},
   "source": [
    "#### K-Means"
   ]
  },
  {
   "cell_type": "code",
   "execution_count": 46,
   "metadata": {
    "collapsed": true
   },
   "outputs": [
    {
     "ename": "KeyboardInterrupt",
     "evalue": "",
     "output_type": "error",
     "traceback": [
      "\u001b[0;31m---------------------------------------------------------------------------\u001b[0m",
      "\u001b[0;31mKeyboardInterrupt\u001b[0m                         Traceback (most recent call last)",
      "\u001b[0;32m<ipython-input-46-c00f1f38c18c>\u001b[0m in \u001b[0;36m<module>\u001b[0;34m()\u001b[0m\n\u001b[1;32m      1\u001b[0m \u001b[0mK\u001b[0m \u001b[0;34m=\u001b[0m \u001b[0mrange\u001b[0m\u001b[0;34m(\u001b[0m\u001b[0;36m1\u001b[0m\u001b[0;34m,\u001b[0m\u001b[0;36m15\u001b[0m\u001b[0;34m)\u001b[0m\u001b[0;34m\u001b[0m\u001b[0m\n\u001b[0;32m----> 2\u001b[0;31m \u001b[0mKM\u001b[0m \u001b[0;34m=\u001b[0m \u001b[0;34m[\u001b[0m\u001b[0mKMeans\u001b[0m\u001b[0;34m(\u001b[0m\u001b[0mn_clusters\u001b[0m\u001b[0;34m=\u001b[0m\u001b[0mk\u001b[0m\u001b[0;34m)\u001b[0m\u001b[0;34m.\u001b[0m\u001b[0mfit\u001b[0m\u001b[0;34m(\u001b[0m\u001b[0mnormalized_features\u001b[0m\u001b[0;34m)\u001b[0m \u001b[0;32mfor\u001b[0m \u001b[0mk\u001b[0m \u001b[0;32min\u001b[0m \u001b[0mK\u001b[0m\u001b[0;34m]\u001b[0m\u001b[0;34m\u001b[0m\u001b[0m\n\u001b[0m",
      "\u001b[0;32m<ipython-input-46-c00f1f38c18c>\u001b[0m in \u001b[0;36m<listcomp>\u001b[0;34m(.0)\u001b[0m\n\u001b[1;32m      1\u001b[0m \u001b[0mK\u001b[0m \u001b[0;34m=\u001b[0m \u001b[0mrange\u001b[0m\u001b[0;34m(\u001b[0m\u001b[0;36m1\u001b[0m\u001b[0;34m,\u001b[0m\u001b[0;36m15\u001b[0m\u001b[0;34m)\u001b[0m\u001b[0;34m\u001b[0m\u001b[0m\n\u001b[0;32m----> 2\u001b[0;31m \u001b[0mKM\u001b[0m \u001b[0;34m=\u001b[0m \u001b[0;34m[\u001b[0m\u001b[0mKMeans\u001b[0m\u001b[0;34m(\u001b[0m\u001b[0mn_clusters\u001b[0m\u001b[0;34m=\u001b[0m\u001b[0mk\u001b[0m\u001b[0;34m)\u001b[0m\u001b[0;34m.\u001b[0m\u001b[0mfit\u001b[0m\u001b[0;34m(\u001b[0m\u001b[0mnormalized_features\u001b[0m\u001b[0;34m)\u001b[0m \u001b[0;32mfor\u001b[0m \u001b[0mk\u001b[0m \u001b[0;32min\u001b[0m \u001b[0mK\u001b[0m\u001b[0;34m]\u001b[0m\u001b[0;34m\u001b[0m\u001b[0m\n\u001b[0m",
      "\u001b[0;32m/Library/Frameworks/Python.framework/Versions/3.4/lib/python3.4/site-packages/sklearn/cluster/k_means_.py\u001b[0m in \u001b[0;36mfit\u001b[0;34m(self, X, y)\u001b[0m\n\u001b[1;32m    819\u001b[0m                 \u001b[0mprecompute_distances\u001b[0m\u001b[0;34m=\u001b[0m\u001b[0mself\u001b[0m\u001b[0;34m.\u001b[0m\u001b[0mprecompute_distances\u001b[0m\u001b[0;34m,\u001b[0m\u001b[0;34m\u001b[0m\u001b[0m\n\u001b[1;32m    820\u001b[0m                 \u001b[0mtol\u001b[0m\u001b[0;34m=\u001b[0m\u001b[0mself\u001b[0m\u001b[0;34m.\u001b[0m\u001b[0mtol\u001b[0m\u001b[0;34m,\u001b[0m \u001b[0mrandom_state\u001b[0m\u001b[0;34m=\u001b[0m\u001b[0mrandom_state\u001b[0m\u001b[0;34m,\u001b[0m \u001b[0mcopy_x\u001b[0m\u001b[0;34m=\u001b[0m\u001b[0mself\u001b[0m\u001b[0;34m.\u001b[0m\u001b[0mcopy_x\u001b[0m\u001b[0;34m,\u001b[0m\u001b[0;34m\u001b[0m\u001b[0m\n\u001b[0;32m--> 821\u001b[0;31m                 n_jobs=self.n_jobs)\n\u001b[0m\u001b[1;32m    822\u001b[0m         \u001b[0;32mreturn\u001b[0m \u001b[0mself\u001b[0m\u001b[0;34m\u001b[0m\u001b[0m\n\u001b[1;32m    823\u001b[0m \u001b[0;34m\u001b[0m\u001b[0m\n",
      "\u001b[0;32m/Library/Frameworks/Python.framework/Versions/3.4/lib/python3.4/site-packages/sklearn/cluster/k_means_.py\u001b[0m in \u001b[0;36mk_means\u001b[0;34m(X, n_clusters, init, precompute_distances, n_init, max_iter, verbose, tol, random_state, copy_x, n_jobs, return_n_iter)\u001b[0m\n\u001b[1;32m    322\u001b[0m                 \u001b[0mX\u001b[0m\u001b[0;34m,\u001b[0m \u001b[0mn_clusters\u001b[0m\u001b[0;34m,\u001b[0m \u001b[0mmax_iter\u001b[0m\u001b[0;34m=\u001b[0m\u001b[0mmax_iter\u001b[0m\u001b[0;34m,\u001b[0m \u001b[0minit\u001b[0m\u001b[0;34m=\u001b[0m\u001b[0minit\u001b[0m\u001b[0;34m,\u001b[0m \u001b[0mverbose\u001b[0m\u001b[0;34m=\u001b[0m\u001b[0mverbose\u001b[0m\u001b[0;34m,\u001b[0m\u001b[0;34m\u001b[0m\u001b[0m\n\u001b[1;32m    323\u001b[0m                 \u001b[0mprecompute_distances\u001b[0m\u001b[0;34m=\u001b[0m\u001b[0mprecompute_distances\u001b[0m\u001b[0;34m,\u001b[0m \u001b[0mtol\u001b[0m\u001b[0;34m=\u001b[0m\u001b[0mtol\u001b[0m\u001b[0;34m,\u001b[0m\u001b[0;34m\u001b[0m\u001b[0m\n\u001b[0;32m--> 324\u001b[0;31m                 x_squared_norms=x_squared_norms, random_state=random_state)\n\u001b[0m\u001b[1;32m    325\u001b[0m             \u001b[0;31m# determine if these results are the best so far\u001b[0m\u001b[0;34m\u001b[0m\u001b[0;34m\u001b[0m\u001b[0m\n\u001b[1;32m    326\u001b[0m             \u001b[0;32mif\u001b[0m \u001b[0mbest_inertia\u001b[0m \u001b[0;32mis\u001b[0m \u001b[0;32mNone\u001b[0m \u001b[0;32mor\u001b[0m \u001b[0minertia\u001b[0m \u001b[0;34m<\u001b[0m \u001b[0mbest_inertia\u001b[0m\u001b[0;34m:\u001b[0m\u001b[0;34m\u001b[0m\u001b[0m\n",
      "\u001b[0;32m/Library/Frameworks/Python.framework/Versions/3.4/lib/python3.4/site-packages/sklearn/cluster/k_means_.py\u001b[0m in \u001b[0;36m_kmeans_single\u001b[0;34m(X, n_clusters, x_squared_norms, max_iter, init, verbose, random_state, tol, precompute_distances)\u001b[0m\n\u001b[1;32m    452\u001b[0m                                                distances)\n\u001b[1;32m    453\u001b[0m         \u001b[0;32melse\u001b[0m\u001b[0;34m:\u001b[0m\u001b[0;34m\u001b[0m\u001b[0m\n\u001b[0;32m--> 454\u001b[0;31m             \u001b[0mcenters\u001b[0m \u001b[0;34m=\u001b[0m \u001b[0m_k_means\u001b[0m\u001b[0;34m.\u001b[0m\u001b[0m_centers_dense\u001b[0m\u001b[0;34m(\u001b[0m\u001b[0mX\u001b[0m\u001b[0;34m,\u001b[0m \u001b[0mlabels\u001b[0m\u001b[0;34m,\u001b[0m \u001b[0mn_clusters\u001b[0m\u001b[0;34m,\u001b[0m \u001b[0mdistances\u001b[0m\u001b[0;34m)\u001b[0m\u001b[0;34m\u001b[0m\u001b[0m\n\u001b[0m\u001b[1;32m    455\u001b[0m \u001b[0;34m\u001b[0m\u001b[0m\n\u001b[1;32m    456\u001b[0m         \u001b[0;32mif\u001b[0m \u001b[0mverbose\u001b[0m\u001b[0;34m:\u001b[0m\u001b[0;34m\u001b[0m\u001b[0m\n",
      "\u001b[0;31mKeyboardInterrupt\u001b[0m: "
     ]
    }
   ],
   "source": [
    "K = range(1,15)\n",
    "KM = [KMeans(n_clusters=k).fit(normalized_features) for k in K]"
   ]
  },
  {
   "cell_type": "code",
   "execution_count": null,
   "metadata": {
    "collapsed": false
   },
   "outputs": [],
   "source": [
    "# Average silhouette method\n",
    "\n",
    "s = []\n",
    "for k_means in KM[1:]:\n",
    "    \n",
    "    labels = k_means.labels_\n",
    "    centroids = k_means.cluster_centers_\n",
    "\n",
    "    s.append(silhouette_score(normalized_features, labels, metric='euclidean'))"
   ]
  },
  {
   "cell_type": "code",
   "execution_count": null,
   "metadata": {
    "collapsed": false,
    "scrolled": true
   },
   "outputs": [],
   "source": [
    "print(s)"
   ]
  },
  {
   "cell_type": "code",
   "execution_count": null,
   "metadata": {
    "collapsed": false
   },
   "outputs": [],
   "source": [
    "plt.plot(range(2,15),s,'r')\n",
    "plt.ylabel(\"Silouette\")\n",
    "plt.xlabel(\"k\")\n",
    "plt.title(\"Silouette for K-means cell's behaviour\")\n",
    "plt.show()"
   ]
  },
  {
   "cell_type": "code",
   "execution_count": null,
   "metadata": {
    "collapsed": false
   },
   "outputs": [],
   "source": [
    "for k_means in KM:\n",
    "    labels = k_means.labels_\n",
    "    print(np.bincount(labels))"
   ]
  },
  {
   "cell_type": "code",
   "execution_count": null,
   "metadata": {
    "collapsed": false
   },
   "outputs": [],
   "source": [
    "kmeans = KMeans(n_clusters=4).fit(normalized_features)"
   ]
  },
  {
   "cell_type": "code",
   "execution_count": null,
   "metadata": {
    "collapsed": false
   },
   "outputs": [],
   "source": [
    "labels_ = kmeans.labels_\n",
    "print(labels_[:100])"
   ]
  },
  {
   "cell_type": "code",
   "execution_count": null,
   "metadata": {
    "collapsed": false
   },
   "outputs": [],
   "source": [
    "np.bincount(kmeans.labels_)"
   ]
  },
  {
   "cell_type": "code",
   "execution_count": null,
   "metadata": {
    "collapsed": false
   },
   "outputs": [],
   "source": [
    "labels_1 = np.where(labels_==3)[0]\n",
    "labels_0 = np.where(labels_==0)[0]"
   ]
  },
  {
   "cell_type": "code",
   "execution_count": null,
   "metadata": {
    "collapsed": false,
    "scrolled": true
   },
   "outputs": [],
   "source": [
    "labels_0"
   ]
  },
  {
   "cell_type": "code",
   "execution_count": null,
   "metadata": {
    "collapsed": false
   },
   "outputs": [],
   "source": [
    "features.shape[1]"
   ]
  },
  {
   "cell_type": "code",
   "execution_count": null,
   "metadata": {
    "collapsed": false,
    "scrolled": true
   },
   "outputs": [],
   "source": [
    "cluster_1 = []\n",
    "for i in labels_1:\n",
    "    cluster_1.append(features[i])\n",
    "print(type(cluster_1))"
   ]
  },
  {
   "cell_type": "code",
   "execution_count": null,
   "metadata": {
    "collapsed": false
   },
   "outputs": [],
   "source": [
    "cluster_0 = []\n",
    "for i in labels_0:\n",
    "    cluster_0.append(features[i])\n",
    "print(cluster_0[:3])"
   ]
  },
  {
   "cell_type": "code",
   "execution_count": null,
   "metadata": {
    "collapsed": true
   },
   "outputs": [],
   "source": [
    "cluster_0 = np.array(cluster_0)"
   ]
  },
  {
   "cell_type": "code",
   "execution_count": null,
   "metadata": {
    "collapsed": false
   },
   "outputs": [],
   "source": [
    "cluster_1 = np.array(cluster_1)"
   ]
  },
  {
   "cell_type": "code",
   "execution_count": null,
   "metadata": {
    "collapsed": false
   },
   "outputs": [],
   "source": [
    "cluster_1_sum = np.sum(cluster_1, axis=0)"
   ]
  },
  {
   "cell_type": "code",
   "execution_count": null,
   "metadata": {
    "collapsed": false
   },
   "outputs": [],
   "source": [
    "print(cluster_1_sum)"
   ]
  },
  {
   "cell_type": "code",
   "execution_count": null,
   "metadata": {
    "collapsed": false
   },
   "outputs": [],
   "source": [
    "cluster_1_sum_big = cluster_1_sum.argsort()[-10:][::-1]  # 10 features whit biggest sum"
   ]
  },
  {
   "cell_type": "code",
   "execution_count": null,
   "metadata": {
    "collapsed": false
   },
   "outputs": [],
   "source": [
    "c1_f = []\n",
    "c1_v =[]\n",
    "for i in cluster_1_sum_big:\n",
    "    print(all_features[i],cluster_1_sum[i])\n",
    "    c1_f.append(all_features[i] if all_features[i] else 'None')\n",
    "    c1_v.append(cluster_1_sum[i])"
   ]
  },
  {
   "cell_type": "code",
   "execution_count": null,
   "metadata": {
    "collapsed": false
   },
   "outputs": [],
   "source": [
    "cluster_0_sum = np.sum(cluster_0, axis=0)"
   ]
  },
  {
   "cell_type": "code",
   "execution_count": null,
   "metadata": {
    "collapsed": false
   },
   "outputs": [],
   "source": [
    "print(cluster_0_sum)"
   ]
  },
  {
   "cell_type": "code",
   "execution_count": null,
   "metadata": {
    "collapsed": true
   },
   "outputs": [],
   "source": [
    "cluster_0_sum_big = cluster_0_sum.argsort()[-10:][::-1]"
   ]
  },
  {
   "cell_type": "code",
   "execution_count": null,
   "metadata": {
    "collapsed": false
   },
   "outputs": [],
   "source": [
    "c0_f = []\n",
    "c0_v = []\n",
    "for i in cluster_0_sum_big:\n",
    "    print(all_features[i],cluster_0_sum[i])\n",
    "    c0_f.append(all_features[i] if all_features[i] else 'None')\n",
    "    c0_v.append(cluster_0_sum[i])"
   ]
  },
  {
   "cell_type": "code",
   "execution_count": null,
   "metadata": {
    "collapsed": false
   },
   "outputs": [],
   "source": [
    "print(c0_f,c1_f)\n",
    "c01_f = list(set(c1_f+c0_f))\n",
    "print(c01_f)"
   ]
  },
  {
   "cell_type": "code",
   "execution_count": null,
   "metadata": {
    "collapsed": false
   },
   "outputs": [],
   "source": [
    "c0_vv = []\n",
    "c1_vv = []\n",
    "for f in c01_f:\n",
    "    c0_vv.append(cluster_0_sum[all_features.index(f)])\n",
    "    c1_vv.append(cluster_1_sum[all_features.index(f)])"
   ]
  },
  {
   "cell_type": "code",
   "execution_count": null,
   "metadata": {
    "collapsed": true
   },
   "outputs": [],
   "source": [
    "c0_vv = [i/np.bincount(kmeans.labels_)[0] for i in c0_vv]\n",
    "c1_vv = [i/np.bincount(kmeans.labels_)[3] for i in c1_vv]"
   ]
  },
  {
   "cell_type": "code",
   "execution_count": null,
   "metadata": {
    "collapsed": false
   },
   "outputs": [],
   "source": [
    "print(c0_vv,c1_vv)"
   ]
  },
  {
   "cell_type": "code",
   "execution_count": 72,
   "metadata": {
    "collapsed": false
   },
   "outputs": [],
   "source": [
    "plt.plot(range(len(c01_f)),c0_vv,'r',range(len(c01_f)),c1_vv)\n",
    "plt.xticks(range(len(c01_f)), c01_f)\n",
    "plt.ylabel(\"PV\")\n",
    "plt.xlabel(\"Feature\")\n",
    "plt.show()"
   ]
  },
  {
   "cell_type": "markdown",
   "metadata": {},
   "source": [
    "#### AgglomerativeClustering"
   ]
  },
  {
   "cell_type": "code",
   "execution_count": null,
   "metadata": {
    "collapsed": false
   },
   "outputs": [],
   "source": [
    "Aver = [AgglomerativeClustering(n_clusters=k, linkage='average',affinity='cosine').fit(normalized_features) for k in K]"
   ]
  },
  {
   "cell_type": "code",
   "execution_count": null,
   "metadata": {
    "collapsed": false
   },
   "outputs": [],
   "source": [
    "for aver in Aver:\n",
    "    a_labels = aver.labels_\n",
    "    print(np.bincount(a_labels))"
   ]
  },
  {
   "cell_type": "code",
   "execution_count": null,
   "metadata": {
    "collapsed": true
   },
   "outputs": [],
   "source": [
    "aver4 = Aver[4] "
   ]
  },
  {
   "cell_type": "code",
   "execution_count": null,
   "metadata": {
    "collapsed": false
   },
   "outputs": [],
   "source": [
    "np.bincount(aver4.labels_)"
   ]
  },
  {
   "cell_type": "code",
   "execution_count": null,
   "metadata": {
    "collapsed": true
   },
   "outputs": [],
   "source": []
  },
  {
   "cell_type": "code",
   "execution_count": null,
   "metadata": {
    "collapsed": true
   },
   "outputs": [],
   "source": []
  },
  {
   "cell_type": "markdown",
   "metadata": {},
   "source": [
    "#### DBSCAN"
   ]
  },
  {
   "cell_type": "code",
   "execution_count": null,
   "metadata": {
    "collapsed": true
   },
   "outputs": [],
   "source": [
    "db = DBSCAN().fit(normalized_features)"
   ]
  },
  {
   "cell_type": "code",
   "execution_count": null,
   "metadata": {
    "collapsed": true
   },
   "outputs": [],
   "source": [
    "labels = db.labels_"
   ]
  },
  {
   "cell_type": "code",
   "execution_count": null,
   "metadata": {
    "collapsed": true
   },
   "outputs": [],
   "source": [
    "# Number of clusters in labels, ignoring noise if present.\n",
    "n_clusters_ = len(set(labels)) - (1 if -1 in labels else 0)"
   ]
  },
  {
   "cell_type": "code",
   "execution_count": null,
   "metadata": {
    "collapsed": false
   },
   "outputs": [],
   "source": [
    "print(n_clusters_)"
   ]
  },
  {
   "cell_type": "code",
   "execution_count": null,
   "metadata": {
    "collapsed": false
   },
   "outputs": [],
   "source": []
  },
  {
   "cell_type": "markdown",
   "metadata": {
    "collapsed": true
   },
   "source": [
    "### Unsupervised dimensionality reduction"
   ]
  },
  {
   "cell_type": "markdown",
   "metadata": {
    "collapsed": true
   },
   "source": [
    "#### PCA"
   ]
  },
  {
   "cell_type": "code",
   "execution_count": 47,
   "metadata": {
    "collapsed": true
   },
   "outputs": [],
   "source": [
    "from sklearn.decomposition import PCA"
   ]
  },
  {
   "cell_type": "code",
   "execution_count": 48,
   "metadata": {
    "collapsed": false
   },
   "outputs": [
    {
     "data": {
      "text/plain": [
       "(4971, 4876)"
      ]
     },
     "execution_count": 48,
     "metadata": {},
     "output_type": "execute_result"
    }
   ],
   "source": [
    "features.shape"
   ]
  },
  {
   "cell_type": "code",
   "execution_count": 49,
   "metadata": {
    "collapsed": false
   },
   "outputs": [
    {
     "data": {
      "text/plain": [
       "array([[ 0.,  0.,  0., ...,  0.,  0.,  0.],\n",
       "       [ 0.,  0.,  0., ...,  1.,  2.,  0.]])"
      ]
     },
     "execution_count": 49,
     "metadata": {},
     "output_type": "execute_result"
    }
   ],
   "source": [
    "features[:2]"
   ]
  },
  {
   "cell_type": "code",
   "execution_count": 51,
   "metadata": {
    "collapsed": false
   },
   "outputs": [],
   "source": [
    "pca = PCA().fit(features)"
   ]
  },
  {
   "cell_type": "code",
   "execution_count": 52,
   "metadata": {
    "collapsed": false
   },
   "outputs": [
    {
     "data": {
      "text/plain": [
       "PCA(copy=True, n_components=None, whiten=False)"
      ]
     },
     "execution_count": 52,
     "metadata": {},
     "output_type": "execute_result"
    }
   ],
   "source": [
    "pca"
   ]
  },
  {
   "cell_type": "code",
   "execution_count": 53,
   "metadata": {
    "collapsed": false
   },
   "outputs": [],
   "source": [
    "eigenfaces = pca.components_.reshape((pca.n_components))"
   ]
  },
  {
   "cell_type": "code",
   "execution_count": 54,
   "metadata": {
    "collapsed": false
   },
   "outputs": [],
   "source": [
    "features_pca = pca.transform(features)"
   ]
  },
  {
   "cell_type": "code",
   "execution_count": 55,
   "metadata": {
    "collapsed": false
   },
   "outputs": [
    {
     "data": {
      "text/plain": [
       "(4971, 4876)"
      ]
     },
     "execution_count": 55,
     "metadata": {},
     "output_type": "execute_result"
    }
   ],
   "source": [
    "features_pca.shape"
   ]
  },
  {
   "cell_type": "code",
   "execution_count": 56,
   "metadata": {
    "collapsed": false
   },
   "outputs": [
    {
     "data": {
      "text/plain": [
       "array([ -2.85735172e+02,   9.47025192e+01,  -1.87179080e+01, ...,\n",
       "         8.08692848e-16,  -7.72920953e-16,  -3.16451509e-17])"
      ]
     },
     "execution_count": 56,
     "metadata": {},
     "output_type": "execute_result"
    }
   ],
   "source": [
    "features_pca[1]"
   ]
  },
  {
   "cell_type": "code",
   "execution_count": 57,
   "metadata": {
    "collapsed": true
   },
   "outputs": [],
   "source": [
    "a_pca = AgglomerativeClustering(n_clusters=4, linkage='average',affinity='cosine').fit(features_pca)"
   ]
  },
  {
   "cell_type": "code",
   "execution_count": 58,
   "metadata": {
    "collapsed": false
   },
   "outputs": [
    {
     "name": "stdout",
     "output_type": "stream",
     "text": [
      "[ 141 4786   43    1]\n"
     ]
    }
   ],
   "source": [
    "print(np.bincount(a_pca.labels_))"
   ]
  },
  {
   "cell_type": "code",
   "execution_count": null,
   "metadata": {
    "collapsed": true
   },
   "outputs": [],
   "source": [
    "Aver_pca = [AgglomerativeClustering(n_clusters=k, linkage='average',affinity='cosine').fit(features_pca) for k in K]"
   ]
  },
  {
   "cell_type": "code",
   "execution_count": null,
   "metadata": {
    "collapsed": true
   },
   "outputs": [],
   "source": [
    "for aver in Aver_pca:\n",
    "    a_labels = aver.labels_\n",
    "    print(np.bincount(a_labels))"
   ]
  },
  {
   "cell_type": "code",
   "execution_count": null,
   "metadata": {
    "collapsed": true
   },
   "outputs": [],
   "source": []
  },
  {
   "cell_type": "markdown",
   "metadata": {},
   "source": [
    "#### TruncatedSVD  "
   ]
  },
  {
   "cell_type": "code",
   "execution_count": 59,
   "metadata": {
    "collapsed": true
   },
   "outputs": [],
   "source": [
    "from sklearn.decomposition import TruncatedSVD\n",
    "from sklearn.preprocessing import Normalizer\n",
    "from sklearn.pipeline import make_pipeline"
   ]
  },
  {
   "cell_type": "code",
   "execution_count": 60,
   "metadata": {
    "collapsed": true
   },
   "outputs": [],
   "source": [
    "svd = TruncatedSVD()\n",
    "normalizer = Normalizer(copy=False)\n",
    "lsa = make_pipeline(svd, normalizer)"
   ]
  },
  {
   "cell_type": "code",
   "execution_count": 61,
   "metadata": {
    "collapsed": true
   },
   "outputs": [],
   "source": [
    "features_svd = lsa.fit_transform(features)"
   ]
  },
  {
   "cell_type": "code",
   "execution_count": 62,
   "metadata": {
    "collapsed": true
   },
   "outputs": [],
   "source": [
    "km = KMeans(n_clusters=3).fit(features_svd)"
   ]
  },
  {
   "cell_type": "code",
   "execution_count": 63,
   "metadata": {
    "collapsed": false
   },
   "outputs": [
    {
     "name": "stdout",
     "output_type": "stream",
     "text": [
      "[3688  896  387]\n"
     ]
    }
   ],
   "source": [
    "print(np.bincount(km.labels_))"
   ]
  },
  {
   "cell_type": "code",
   "execution_count": 64,
   "metadata": {
    "collapsed": true
   },
   "outputs": [],
   "source": [
    "K = range(1,15)\n",
    "KM_svd = [KMeans(n_clusters=k).fit(features_svd) for k in K]"
   ]
  },
  {
   "cell_type": "code",
   "execution_count": 65,
   "metadata": {
    "collapsed": false
   },
   "outputs": [
    {
     "name": "stdout",
     "output_type": "stream",
     "text": [
      "[4971]\n",
      "[3804 1167]\n",
      "[3688  387  896]\n",
      "[ 711  837 3046  377]\n",
      "[2727  834  371  409  630]\n",
      "[2681  692  222  332  635  409]\n",
      "[2626  348  237  406  541  175  638]\n",
      "[1393  342  552  175  536  335 1406  232]\n",
      "[1490  344  154  448  543  330  158 1281  223]\n",
      "[1398  347  112  508  217  335  378 1360  154  162]\n",
      "[ 219 1389  347  154  295  110  455  382  166  664  790]\n",
      "[ 809  328  117  288  150  179  632  148  454  361  106 1399]\n",
      "[1217  328  117  447  193  179  361  743  148  151  105  763  219]\n",
      "[1142  328  111  140  230  147  361  709  785  414   90   85  179  250]\n"
     ]
    }
   ],
   "source": [
    "for km in KM_svd:\n",
    "    a_labels = km.labels_\n",
    "    print(np.bincount(a_labels))"
   ]
  },
  {
   "cell_type": "code",
   "execution_count": 66,
   "metadata": {
    "collapsed": false
   },
   "outputs": [
    {
     "name": "stdout",
     "output_type": "stream",
     "text": [
      "[3804 1167]\n"
     ]
    }
   ],
   "source": [
    "km_svd2 = KM_svd[1]\n",
    "print(np.bincount(km_svd2.labels_))"
   ]
  },
  {
   "cell_type": "code",
   "execution_count": 67,
   "metadata": {
    "collapsed": true
   },
   "outputs": [],
   "source": [
    "labels_svd = km_svd2.labels_"
   ]
  },
  {
   "cell_type": "code",
   "execution_count": 68,
   "metadata": {
    "collapsed": false
   },
   "outputs": [],
   "source": [
    "l_1 = np.where(labels_svd==1)[0]\n",
    "l_0 = np.where(labels_svd==0)[0]"
   ]
  },
  {
   "cell_type": "code",
   "execution_count": 69,
   "metadata": {
    "collapsed": false
   },
   "outputs": [
    {
     "name": "stdout",
     "output_type": "stream",
     "text": [
      "<class 'list'>\n"
     ]
    }
   ],
   "source": [
    "cluster_svd_1 = []\n",
    "for i in l_1:\n",
    "    cluster_svd_1.append(features[i])\n",
    "print(type(cluster_svd_1))"
   ]
  },
  {
   "cell_type": "code",
   "execution_count": 70,
   "metadata": {
    "collapsed": false
   },
   "outputs": [
    {
     "name": "stdout",
     "output_type": "stream",
     "text": [
      "<class 'list'>\n"
     ]
    }
   ],
   "source": [
    "cluster_svd_0 = []\n",
    "for i in l_0:\n",
    "    cluster_svd_0.append(features[i])\n",
    "print(type(cluster_svd_0))"
   ]
  },
  {
   "cell_type": "code",
   "execution_count": 71,
   "metadata": {
    "collapsed": true
   },
   "outputs": [],
   "source": [
    "cluster_svd_0 = np.array(cluster_svd_0)\n",
    "cluster_svd_1 = np.array(cluster_svd_1)"
   ]
  },
  {
   "cell_type": "code",
   "execution_count": 72,
   "metadata": {
    "collapsed": true
   },
   "outputs": [],
   "source": [
    "cluster_svd_1_sum = np.sum(cluster_svd_1, axis=0)\n",
    "cluster_svd_0_sum = np.sum(cluster_svd_0, axis=0)"
   ]
  },
  {
   "cell_type": "code",
   "execution_count": 73,
   "metadata": {
    "collapsed": true
   },
   "outputs": [],
   "source": [
    "cluster_svd_1_sum_big = cluster_svd_1_sum.argsort()[-10:][::-1]\n",
    "cluster_svd_0_sum_big = cluster_svd_0_sum.argsort()[-10:][::-1]"
   ]
  },
  {
   "cell_type": "code",
   "execution_count": 74,
   "metadata": {
    "collapsed": false
   },
   "outputs": [
    {
     "name": "stdout",
     "output_type": "stream",
     "text": [
      "101_202 627024.0\n",
      "101_200 510221.0\n",
      "SUV 275477.0\n",
      "紧凑型车 193727.0\n",
      "中型车 103761.0\n",
      "MPV 84258.0\n",
      "101_206 80870.0\n",
      "小型车 67923.0\n",
      "皮卡 44166.0\n",
      "跑车 43341.0\n"
     ]
    }
   ],
   "source": [
    "c1_svd_f = []\n",
    "c1_svd_v =[]\n",
    "for i in cluster_svd_1_sum_big:\n",
    "    print(all_features[i],cluster_svd_1_sum[i])\n",
    "    c1_svd_f.append(all_features[i] if all_features[i] else 'None')\n",
    "    c1_svd_v.append(cluster_svd_1_sum[i])"
   ]
  },
  {
   "cell_type": "code",
   "execution_count": 75,
   "metadata": {
    "collapsed": false
   },
   "outputs": [
    {
     "name": "stdout",
     "output_type": "stream",
     "text": [
      "紧凑型车 1385396.0\n",
      "中型车 809618.0\n",
      "紧凑型SUV 669614.0\n",
      "101_402 641698.0\n",
      "中型SUV 469116.0\n",
      "101_103 451611.0\n",
      "小型车 425482.0\n",
      "小型SUV 397450.0\n",
      "101_102 373877.0\n",
      "MPV 306043.0\n"
     ]
    }
   ],
   "source": [
    "c0_svd_f = []\n",
    "c0_svd_v =[]\n",
    "for i in cluster_svd_0_sum_big:\n",
    "    print(all_features[i],cluster_svd_0_sum[i])\n",
    "    c0_svd_f.append(all_features[i] if all_features[i] else 'None')\n",
    "    c0_svd_v.append(cluster_svd_0_sum[i])"
   ]
  },
  {
   "cell_type": "code",
   "execution_count": 76,
   "metadata": {
    "collapsed": false
   },
   "outputs": [
    {
     "name": "stdout",
     "output_type": "stream",
     "text": [
      "['紧凑型车', '中型车', '紧凑型SUV', '101_402', '中型SUV', '101_103', '小型车', '小型SUV', '101_102', 'MPV'] ['101_202', '101_200', 'SUV', '紧凑型车', '中型车', 'MPV', '101_206', '小型车', '皮卡', '跑车']\n",
      "16 ['中型SUV', '101_103', '跑车', '小型SUV', '101_200', '紧凑型SUV', '紧凑型车', '101_206', '皮卡', '101_102', '小型车', '101_202', '中型车', 'MPV', 'SUV', '101_402']\n"
     ]
    }
   ],
   "source": [
    "print(c0_svd_f,c1_svd_f)\n",
    "c01_svd_f = list(set(c1_svd_f+c0_svd_f))\n",
    "print(len(c01_svd_f),c01_svd_f)"
   ]
  },
  {
   "cell_type": "code",
   "execution_count": 77,
   "metadata": {
    "collapsed": true
   },
   "outputs": [],
   "source": [
    "c0_svd_vv = []\n",
    "c1_svd_vv = []\n",
    "for f in c01_svd_f:\n",
    "    c0_svd_vv.append(cluster_svd_0_sum[all_features.index(f)])\n",
    "    c1_svd_vv.append(cluster_svd_1_sum[all_features.index(f)])"
   ]
  },
  {
   "cell_type": "code",
   "execution_count": 78,
   "metadata": {
    "collapsed": false
   },
   "outputs": [
    {
     "name": "stdout",
     "output_type": "stream",
     "text": [
      "16\n"
     ]
    }
   ],
   "source": [
    "print(len(c0_svd_vv))"
   ]
  },
  {
   "cell_type": "code",
   "execution_count": 79,
   "metadata": {
    "collapsed": false
   },
   "outputs": [
    {
     "data": {
      "text/plain": [
       "array([3804, 1167])"
      ]
     },
     "execution_count": 79,
     "metadata": {},
     "output_type": "execute_result"
    }
   ],
   "source": [
    "np.bincount(labels_svd)"
   ]
  },
  {
   "cell_type": "code",
   "execution_count": 80,
   "metadata": {
    "collapsed": true
   },
   "outputs": [],
   "source": [
    "c0_svd_vv = [i/(np.bincount(labels_svd)[0]) for i in c0_svd_vv]\n",
    "c1_svd_vv = [i/(np.bincount(labels_svd)[1]) for i in c1_svd_vv]"
   ]
  },
  {
   "cell_type": "code",
   "execution_count": 81,
   "metadata": {
    "collapsed": false
   },
   "outputs": [
    {
     "name": "stdout",
     "output_type": "stream",
     "text": [
      "16 16\n"
     ]
    }
   ],
   "source": [
    "print(len(c0_svd_vv),len(c1_svd_vv))"
   ]
  },
  {
   "cell_type": "code",
   "execution_count": 1,
   "metadata": {
    "collapsed": false
   },
   "outputs": [
    {
     "ename": "NameError",
     "evalue": "name 'plt' is not defined",
     "output_type": "error",
     "traceback": [
      "\u001b[0;31m---------------------------------------------------------------------------\u001b[0m",
      "\u001b[0;31mNameError\u001b[0m                                 Traceback (most recent call last)",
      "\u001b[0;32m<ipython-input-1-4388aadeda17>\u001b[0m in \u001b[0;36m<module>\u001b[0;34m()\u001b[0m\n\u001b[0;32m----> 1\u001b[0;31m \u001b[0mplt\u001b[0m\u001b[0;34m.\u001b[0m\u001b[0mplot\u001b[0m\u001b[0;34m(\u001b[0m\u001b[0mrange\u001b[0m\u001b[0;34m(\u001b[0m\u001b[0mlen\u001b[0m\u001b[0;34m(\u001b[0m\u001b[0mc01_svd_f\u001b[0m\u001b[0;34m)\u001b[0m\u001b[0;34m)\u001b[0m\u001b[0;34m,\u001b[0m\u001b[0mc0_svd_vv\u001b[0m\u001b[0;34m,\u001b[0m\u001b[0;34m'r'\u001b[0m\u001b[0;34m,\u001b[0m\u001b[0mrange\u001b[0m\u001b[0;34m(\u001b[0m\u001b[0mlen\u001b[0m\u001b[0;34m(\u001b[0m\u001b[0mc01_svd_f\u001b[0m\u001b[0;34m)\u001b[0m\u001b[0;34m)\u001b[0m\u001b[0;34m,\u001b[0m\u001b[0mc1_svd_vv\u001b[0m\u001b[0;34m)\u001b[0m\u001b[0;34m\u001b[0m\u001b[0m\n\u001b[0m\u001b[1;32m      2\u001b[0m \u001b[0mplt\u001b[0m\u001b[0;34m.\u001b[0m\u001b[0mxticks\u001b[0m\u001b[0;34m(\u001b[0m\u001b[0mrange\u001b[0m\u001b[0;34m(\u001b[0m\u001b[0mlen\u001b[0m\u001b[0;34m(\u001b[0m\u001b[0mc01_svd_f\u001b[0m\u001b[0;34m)\u001b[0m\u001b[0;34m)\u001b[0m\u001b[0;34m,\u001b[0m \u001b[0mc01_svd_f\u001b[0m\u001b[0;34m)\u001b[0m\u001b[0;34m\u001b[0m\u001b[0m\n\u001b[1;32m      3\u001b[0m \u001b[0mplt\u001b[0m\u001b[0;34m.\u001b[0m\u001b[0mylabel\u001b[0m\u001b[0;34m(\u001b[0m\u001b[0;34m\"PV\"\u001b[0m\u001b[0;34m)\u001b[0m\u001b[0;34m\u001b[0m\u001b[0m\n\u001b[1;32m      4\u001b[0m \u001b[0mplt\u001b[0m\u001b[0;34m.\u001b[0m\u001b[0mxlabel\u001b[0m\u001b[0;34m(\u001b[0m\u001b[0;34m\"Feature\"\u001b[0m\u001b[0;34m)\u001b[0m\u001b[0;34m\u001b[0m\u001b[0m\n\u001b[1;32m      5\u001b[0m \u001b[0mplt\u001b[0m\u001b[0;34m.\u001b[0m\u001b[0mshow\u001b[0m\u001b[0;34m(\u001b[0m\u001b[0;34m)\u001b[0m\u001b[0;34m\u001b[0m\u001b[0m\n",
      "\u001b[0;31mNameError\u001b[0m: name 'plt' is not defined"
     ]
    }
   ],
   "source": [
    "plt.plot(range(len(c01_svd_f)),c0_svd_vv,'r',range(len(c01_svd_f)),c1_svd_vv)\n",
    "plt.xticks(range(len(c01_svd_f)), c01_svd_f)\n",
    "plt.ylabel(\"PV\")\n",
    "plt.xlabel(\"Feature\")\n",
    "plt.show()"
   ]
  },
  {
   "cell_type": "code",
   "execution_count": null,
   "metadata": {
    "collapsed": true
   },
   "outputs": [],
   "source": []
  }
 ],
 "metadata": {
  "anaconda-cloud": {},
  "kernelspec": {
   "display_name": "Python [default]",
   "language": "python",
   "name": "python3"
  },
  "language_info": {
   "codemirror_mode": {
    "name": "ipython",
    "version": 3
   },
   "file_extension": ".py",
   "mimetype": "text/x-python",
   "name": "python",
   "nbconvert_exporter": "python",
   "pygments_lexer": "ipython3",
   "version": "3.5.2"
  }
 },
 "nbformat": 4,
 "nbformat_minor": 0
}
