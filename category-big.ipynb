{
 "cells": [
  {
   "cell_type": "code",
   "execution_count": 1,
   "metadata": {
    "collapsed": false
   },
   "outputs": [
    {
     "data": {
      "text/plain": [
       "979984173"
      ]
     },
     "execution_count": 1,
     "metadata": {},
     "output_type": "execute_result"
    }
   ],
   "source": [
    "filePath=\"/media/jw/5dccc50e-7c13-4186-bf6b-d894f02410be/data/userurl/gn/cm/jiangsu/nanjing/20131228/*/*\"\n",
    "lines = sc.textFile(filePath)\n",
    "parts = lines.map(lambda l: l.split(\"\\t\")).filter(lambda line : len(line)==88)\n",
    "parts.count()"
   ]
  },
  {
   "cell_type": "code",
   "execution_count": 2,
   "metadata": {
    "collapsed": false
   },
   "outputs": [],
   "source": [
    "# category domain\n",
    "outPath=\"/media/jw/5dccc50e-7c13-4186-bf6b-d894f02410be/result_jw/category-big/category_domain\"\n",
    "category=parts.map(lambda  p: (p[35].split(\":\")[0],p[59]))\n",
    "category=category.distinct()\n",
    "\n",
    "import shutil \n",
    "if os.path.exists(outPath):\n",
    "    shutil.rmtree(outPath)\n",
    "category.saveAsTextFile(outPath)"
   ]
  },
  {
   "cell_type": "code",
   "execution_count": 3,
   "metadata": {
    "collapsed": true
   },
   "outputs": [],
   "source": [
    "# label domain\n",
    "outPath=\"/media/jw/5dccc50e-7c13-4186-bf6b-d894f02410be/result_jw/category-big/label_domain\"\n",
    "category=parts.map(lambda  p: (p[35].split(\":\")[0],p[60]))\n",
    "category=category.distinct()\n",
    "\n",
    "import shutil \n",
    "if os.path.exists(outPath):\n",
    "    shutil.rmtree(outPath)\n",
    "category.saveAsTextFile(outPath)"
   ]
  },
  {
   "cell_type": "code",
   "execution_count": 4,
   "metadata": {
    "collapsed": false
   },
   "outputs": [],
   "source": [
    "# category url\n",
    "\n",
    "def map_category_function(p):\n",
    "    if p[38] == '-':\n",
    "        return (p[35].split(\":\")[0],p[59])\n",
    "    else:\n",
    "        return (p[35].split(\":\")[0]+p[38].split(\":\")[0],p[59])\n",
    "    \n",
    "    \n",
    "outPath=\"/media/jw/5dccc50e-7c13-4186-bf6b-d894f02410be/result_jw/category-big/category_url\"\n",
    "category=parts.map(lambda  p: map_category_function(p))\n",
    "category=category.distinct()\n",
    "\n",
    "import shutil \n",
    "if os.path.exists(outPath):\n",
    "    shutil.rmtree(outPath)\n",
    "category.saveAsTextFile(outPath)"
   ]
  },
  {
   "cell_type": "code",
   "execution_count": 5,
   "metadata": {
    "collapsed": true
   },
   "outputs": [],
   "source": [
    "# label url\n",
    "outPath=\"/media/jw/5dccc50e-7c13-4186-bf6b-d894f02410be/result_jw/category-big/label_url\"\n",
    "def map_label_function(p):\n",
    "    if p[38] == '-':\n",
    "        return (p[35].split(\":\")[0],p[60])\n",
    "    else:\n",
    "        return (p[35].split(\":\")[0]+p[38].split(\":\")[0],p[60])\n",
    "    \n",
    "category=parts.map(lambda  p: map_label_function(p))\n",
    "category=category.distinct()\n",
    "\n",
    "import shutil \n",
    "if os.path.exists(outPath):\n",
    "    shutil.rmtree(outPath)\n",
    "category.saveAsTextFile(outPath)"
   ]
  },
  {
   "cell_type": "code",
   "execution_count": null,
   "metadata": {
    "collapsed": true
   },
   "outputs": [],
   "source": []
  }
 ],
 "metadata": {
  "anaconda-cloud": {},
  "kernelspec": {
   "display_name": "Python [conda root]",
   "language": "python",
   "name": "conda-root-py"
  },
  "language_info": {
   "codemirror_mode": {
    "name": "ipython",
    "version": 3
   },
   "file_extension": ".py",
   "mimetype": "text/x-python",
   "name": "python",
   "nbconvert_exporter": "python",
   "pygments_lexer": "ipython3",
   "version": "3.5.2"
  }
 },
 "nbformat": 4,
 "nbformat_minor": 1
}
