{
 "cells": [
  {
   "cell_type": "code",
   "execution_count": 1,
   "metadata": {
    "collapsed": false
   },
   "outputs": [],
   "source": [
    "#979984173 total\n",
    "#!wc -l /media/jw/5dccc50e-7c13-4186-bf6b-d894f02410be/data/userurl/gn/cm/jiangsu/nanjing/20131228/*/*"
   ]
  },
  {
   "cell_type": "code",
   "execution_count": 1,
   "metadata": {
    "collapsed": false
   },
   "outputs": [
    {
     "name": "stdout",
     "output_type": "stream",
     "text": [
      "1388246280.520000\t2013-12-28 23:58:00\t1388246279.548000\t1388246280.520000\t8613851992471\t0123370032238318\t460001993548600\t5\tcmwap\t2\t1\t1\t1\tIPHONE_4\tG112\tS10103\t-1\t-1\t320100\t320000\t320100\t5\t221.177.143.145\t221.177.140.132\t20950\t41108\t10.62.188.76\t42.62.62.4\t6\t49410\t80\t1100000\t0\tweb\tPOST\tgs1.anyplaygame.com\tanyplaygame\t-\t/\t-\tVenus/1.0.5 (iPhone; iOS 6.1; Scale/2.00)\t200\t478\ttext/json\t-\t1\t972\t3\t4\t1099\t2085\t1099\t2085\t0\t0\t0\t0\t1\t-\t4\t1025\t1\t0\t194\thttp\t-\tNJSGSN03BHW\tNJGGSN12BHW\t221.177.140.129\t221.177.143.145\t460\t5\t00\tNJ-G3-BSC36-2\t-1\t320000\t320100\tƻ��\t2044028400007814113\t-\t-\t-\t0\t16569241107951950879\t478\t1836\t0\t0\r",
      "\r\n"
     ]
    }
   ],
   "source": [
    "!head -n 1 /media/jw/5dccc50e-7c13-4186-bf6b-d894f02410be/data/userurl/gn/cm/jiangsu/nanjing/20131228/39server/userurl_20131228_235801_001039.log"
   ]
  },
  {
   "cell_type": "raw",
   "metadata": {
    "collapsed": true
   },
   "source": [
    "1. 1388170568.241000\t\t记录时间，等于流结束时间，UTC格式\n",
    "2. 2013-12-28 02:56:08\t\t记录时间，年月日时分秒\n",
    "3. 1388170565.446000\t\t流开始时间，UTC格式\n",
    "4. 1388170568.241000\t\t流结束时间，UTC格式\n",
    "5. 8613851651044\t\t用户账号/手机号\n",
    "27. 10.203.55.167\t\t用户IP地址，点分十进制IP\n",
    "28. 111.30.132.34\t\t服务器IP地址，点分十进制IP\n",
    "34. web\t\t\t\t业务类型，取值web/wap1/wap2/mms/txt等\n",
    "35. GET\t\t\t\tWEB/WAP请求方法\n",
    "36. isdspeed.qq.com\t\tWEB/WAP请求HOST\n",
    "37. qq\t\t\t\t根据HOST提取的一级域名\n",
    "39. /cgi-bin/r.cgi?1=338&flag1=7832&flag2=7&flag3=1\tWEB/WAP请求URI\n",
    "40. web.p.qq.com/qqmpmobile/coupon/shop.html?sid=AeHCjiFXNLIhwQDrfGuvBeJz&_bid=108&_lv=20119\tWEB/WAP请求Referer\n",
    "41. Mozilla/5.0 (Linux; U; Android 4.2.1; zh-cn; Coolpad8720Q Build/JOP40D) AppleWebKit/534.30 (KHTML, like Gecko) Version/4.0 Mobil\tWEB/WAP请求User Agent\t\n",
    "47. 2795\t\t\t连接时长，即（流结束时间-流开始时间）\n",
    "48. 10\t\t\t\t上行报文数\n",
    "49. 7\t\t\t\t下行报文数\n",
    "50. 2542\t\t\t上行字节数\n",
    "51. 525\t\t\t\t下行字节数\n",
    "60. 8\t\t\t\t大类业务ID\n",
    "61. 2148\t\t\t小类业务ID\n",
    "65. http\t\t\t承载协议类型\n",
    "78. 宇龙\t\t\t终端厂家，UTF-8"
   ]
  },
  {
   "cell_type": "raw",
   "metadata": {},
   "source": [
    "5. 8613851651044\t\t用户账号/手机号\n",
    "1. 1388170568.241000\t\t记录时间，等于流结束时间，UTC格式\n",
    "36. isdspeed.qq.com\t\tWEB/WAP请求HOST\n",
    "39. /cgi-bin/r.cgi?1=338&flag1=7832&flag2=7&flag3=1\tWEB/WAP请求URI\n",
    "40. web.p.qq.com/qqmpmobile/coupon/shop.html?sid=AeHCjiFXNLIhwQDrfGuvBeJz&_bid=108&_lv=20119\tWEB/WAP请求Referer\n",
    "65. http\t\t\t承载协议类型"
   ]
  },
  {
   "cell_type": "code",
   "execution_count": 2,
   "metadata": {
    "collapsed": true
   },
   "outputs": [],
   "source": [
    "filePath='/media/jw/5dccc50e-7c13-4186-bf6b-d894f02410be/data/userurl/gn/cm/jiangsu/nanjing/20131228/*/*'"
   ]
  },
  {
   "cell_type": "code",
   "execution_count": 3,
   "metadata": {
    "collapsed": false
   },
   "outputs": [
    {
     "data": {
      "text/plain": [
       "979984173"
      ]
     },
     "execution_count": 3,
     "metadata": {},
     "output_type": "execute_result"
    }
   ],
   "source": [
    "lines = sc.textFile(filePath)\n",
    "parts = lines.map(lambda l: l.split(\"\\t\")).filter(lambda line : len(line)==88)\n",
    "parts.count()"
   ]
  },
  {
   "cell_type": "code",
   "execution_count": 4,
   "metadata": {
    "collapsed": false
   },
   "outputs": [
    {
     "data": {
      "text/plain": [
       "979984173"
      ]
     },
     "execution_count": 4,
     "metadata": {},
     "output_type": "execute_result"
    }
   ],
   "source": [
    "def map_function(p):\n",
    "    if p[38] == '-':\n",
    "        return (p[4], [p[0], p[39],p[35],p[35],p[64],int(p[46])])\n",
    "    else:\n",
    "        return (p[4], [p[0], p[39],p[35]+p[38],p[35], p[64],int(p[46])])\n",
    "user_flow=parts.map(lambda  p: map_function(p))\n",
    "user_flow.count()"
   ]
  },
  {
   "cell_type": "code",
   "execution_count": 5,
   "metadata": {
    "collapsed": true
   },
   "outputs": [],
   "source": [
    "user_flow=user_flow.sortByKey()"
   ]
  },
  {
   "cell_type": "code",
   "execution_count": 6,
   "metadata": {
    "collapsed": false
   },
   "outputs": [
    {
     "data": {
      "text/plain": [
       "('8613032261669',\n",
       " ['1388219305.310000',\n",
       "  '-',\n",
       "  'dns.weixin.qq.com/cgi-bin/micromsg-bin/newgetdns?uin=2046042280&clientversion=352321792&scene=0&net=0',\n",
       "  'dns.weixin.qq.com',\n",
       "  'http',\n",
       "  4366])"
      ]
     },
     "execution_count": 6,
     "metadata": {},
     "output_type": "execute_result"
    }
   ],
   "source": [
    "user_flow.first()"
   ]
  },
  {
   "cell_type": "code",
   "execution_count": 7,
   "metadata": {
    "collapsed": true
   },
   "outputs": [],
   "source": [
    "user_flow.saveAsTextFile(\"/media/jw/5dccc50e-7c13-4186-bf6b-d894f02410be/result_jw/user_flow\")"
   ]
  },
  {
   "cell_type": "markdown",
   "metadata": {
    "collapsed": false
   },
   "source": [
    "# data explore"
   ]
  },
  {
   "cell_type": "code",
   "execution_count": 8,
   "metadata": {
    "collapsed": false
   },
   "outputs": [
    {
     "data": {
      "text/plain": [
       "151437973"
      ]
     },
     "execution_count": 8,
     "metadata": {},
     "output_type": "execute_result"
    }
   ],
   "source": [
    "#count how many Packet have referer infomation\n",
    "user_flow.filter(lambda u : u[1][1]!='-').count()"
   ]
  },
  {
   "cell_type": "code",
   "execution_count": 9,
   "metadata": {
    "collapsed": false
   },
   "outputs": [
    {
     "data": {
      "text/plain": [
       "[('http', 799998850), ('wap2', 179985323)]"
      ]
     },
     "execution_count": 9,
     "metadata": {},
     "output_type": "execute_result"
    }
   ],
   "source": [
    "# the type of network \n",
    "from operator import add\n",
    "user_flow.map(lambda u : (u[1][4],1)).reduceByKey(add).collect()"
   ]
  },
  {
   "cell_type": "code",
   "execution_count": 12,
   "metadata": {
    "collapsed": true
   },
   "outputs": [],
   "source": [
    "# rank the domain  \n",
    "from operator import add\n",
    "user_flow.map(lambda u : (u[1][3],1)).reduceByKey(add).sortBy(lambda x: x[1],ascending=False).saveAsTextFile(\"/media/jw/5dccc50e-7c13-4186-bf6b-d894f02410be/result_jw/domain-rank\")"
   ]
  },
  {
   "cell_type": "code",
   "execution_count": 15,
   "metadata": {
    "collapsed": false
   },
   "outputs": [
    {
     "name": "stdout",
     "output_type": "stream",
     "text": [
      "Variable       Type                          Data/Info\n",
      "------------------------------------------------------\n",
      "add            builtin_function_or_method    <built-in function add>\n",
      "filePath       str                           /media/jw/5dccc50e-7c13-4<...>ngsu/nanjing/20131228/*/*\n",
      "flow_time      PipelinedRDD                  PythonRDD[45] at collect <...>-input-14-158c64e04297>:3\n",
      "getKey         function                      <function getKey at 0x7f716196a620>\n",
      "lines          RDD                           /media/jw/5dccc50e-7c13-4<...>ethodAccessorImpl.java:-2\n",
      "map_function   function                      <function map_function at 0x7f718f57a730>\n",
      "parts          PipelinedRDD                  PythonRDD[46] at RDD at PythonRDD.scala:48\n",
      "user_flow      PipelinedRDD                  PythonRDD[47] at RDD at PythonRDD.scala:48\n"
     ]
    }
   ],
   "source": [
    "%whos"
   ]
  },
  {
   "cell_type": "markdown",
   "metadata": {},
   "source": [
    "## load user flow"
   ]
  },
  {
   "cell_type": "code",
   "execution_count": 1,
   "metadata": {
    "collapsed": false
   },
   "outputs": [
    {
     "name": "stdout",
     "output_type": "stream",
     "text": [
      "('8613032261669', ['1388219305.310000', '-', 'dns.weixin.qq.com/cgi-bin/micromsg-bin/newgetdns?uin=2046042280&clientversion=352321792&scene=0&net=0', 'dns.weixin.qq.com', 'http', 4366])\r\n"
     ]
    }
   ],
   "source": [
    "!head -n 1 /media/jw/5dccc50e-7c13-4186-bf6b-d894f02410be/result_jw/user_flow/part-00000"
   ]
  },
  {
   "cell_type": "code",
   "execution_count": 1,
   "metadata": {
    "collapsed": false
   },
   "outputs": [
    {
     "data": {
      "text/plain": [
       "tuple"
      ]
     },
     "execution_count": 1,
     "metadata": {},
     "output_type": "execute_result"
    }
   ],
   "source": [
    "user_flow = sc.textFile('/media/jw/5dccc50e-7c13-4186-bf6b-d894f02410be/result_jw/user_flow').map(lambda t : eval(t)).repartition(200)\n",
    "type(user_flow.first())"
   ]
  },
  {
   "cell_type": "code",
   "execution_count": 2,
   "metadata": {
    "collapsed": false
   },
   "outputs": [
    {
     "data": {
      "text/plain": [
       "('8613776545743',\n",
       " ['1388229722.730000',\n",
       "  '-',\n",
       "  'a288.phobos.apple.com/us/r30/Purple/v4/69/be/cc/69becc7c-1d0b-bb45-af10-8cde3fe42821/mzl.gafkqwxv.114x114-75.png',\n",
       "  'a288.phobos.apple.com',\n",
       "  'http',\n",
       "  15269])"
      ]
     },
     "execution_count": 2,
     "metadata": {},
     "output_type": "execute_result"
    }
   ],
   "source": [
    "user_flow.first()"
   ]
  },
  {
   "cell_type": "markdown",
   "metadata": {},
   "source": [
    "## domain2vec data prepare"
   ]
  },
  {
   "cell_type": "code",
   "execution_count": 1,
   "metadata": {
    "collapsed": true
   },
   "outputs": [],
   "source": [
    "user_flow = sc.textFile('/media/jw/5dccc50e-7c13-4186-bf6b-d894f02410be/result_jw/user_flow/part-00000').map(lambda t : eval(t))"
   ]
  },
  {
   "cell_type": "code",
   "execution_count": 2,
   "metadata": {
    "collapsed": false
   },
   "outputs": [
    {
     "data": {
      "text/plain": [
       "MapPartitionsRDD[10] at repartition at NativeMethodAccessorImpl.java:-2"
      ]
     },
     "execution_count": 2,
     "metadata": {},
     "output_type": "execute_result"
    }
   ],
   "source": [
    "domain_flow=user_flow.map(lambda u :(u[0],[u[1][0],u[1][3]]))\n",
    "def add(a, b): \n",
    "    a.append(b)\n",
    "    return a \n",
    "# def add(a, b): return a + str(b)\n",
    "user_domain_flow=domain_flow.foldByKey([],add)\n",
    "user_domain_flow.repartition(20)"
   ]
  },
  {
   "cell_type": "code",
   "execution_count": 3,
   "metadata": {
    "collapsed": false
   },
   "outputs": [
    {
     "data": {
      "text/plain": [
       "('8613400001908',\n",
       " [['1388210437.226000', '183.218.12.66:12345'],\n",
       "  ['1388212991.182000', 'wireless.mapbar.com'],\n",
       "  ['1388213015.313000', '183.218.12.66:12345'],\n",
       "  ['1388213124.050000', 'monitor.uu.qq.com'],\n",
       "  ['1388209804.614000', 'monitor.uu.qq.com'],\n",
       "  ['1388209913.325000', 'monitor.uu.qq.com'],\n",
       "  ['1388212503.677000', '183.218.12.66:12345'],\n",
       "  ['1388212653.253000', 'monitor.uu.qq.com'],\n",
       "  ['1388212653.272000', 'monitor.uu.qq.com'],\n",
       "  ['1388212707.992000', 'monitor.uu.qq.com'],\n",
       "  ['1388213518.471000', 'monitor.uu.qq.com'],\n",
       "  ['1388213515.780000', 'monitor.uu.qq.com'],\n",
       "  ['1388213806.870000', 'monitor.uu.qq.com'],\n",
       "  ['1388213817.761000', 'monitor.uu.qq.com'],\n",
       "  ['1388209934.413000', 'monitor.uu.qq.com'],\n",
       "  ['1388212333.634000', 'monitor.uu.qq.com'],\n",
       "  ['1388212335.674000', 'monitor.uu.qq.com'],\n",
       "  ['1388213346.131000', '183.218.12.66:12345'],\n",
       "  ['1388210736.630000', '183.218.12.66:12345'],\n",
       "  ['1388211419.818000', 'monitor.uu.qq.com'],\n",
       "  ['1388211419.051000', 'monitor.uu.qq.com'],\n",
       "  ['1388211605.631000', 'monitor.uu.qq.com'],\n",
       "  ['1388211622.494000', 'monitor.uu.qq.com'],\n",
       "  ['1388211640.906000', 'monitor.uu.qq.com'],\n",
       "  ['1388214050.706000', 'monitor.uu.qq.com'],\n",
       "  ['1388214080.305000', 'monitor.uu.qq.com'],\n",
       "  ['1388214080.305000', 'monitor.uu.qq.com'],\n",
       "  ['1388214177.804000', 'monitor.uu.qq.com'],\n",
       "  ['1388214187.250000', 'monitor.uu.qq.com'],\n",
       "  ['1388214195.013000', 'monitor.uu.qq.com'],\n",
       "  ['1388214208.180000', 'monitor.uu.qq.com'],\n",
       "  ['1388214318.709000', 'monitor.uu.qq.com'],\n",
       "  ['1388214339.669000', 'monitor.uu.qq.com'],\n",
       "  ['1388214342.231000', 'monitor.uu.qq.com'],\n",
       "  ['1388211136.446000', 'monitor.uu.qq.com'],\n",
       "  ['1388211115.925000', 'monitor.uu.qq.com']])"
      ]
     },
     "execution_count": 3,
     "metadata": {},
     "output_type": "execute_result"
    }
   ],
   "source": [
    "user_domain_flow.first()"
   ]
  },
  {
   "cell_type": "code",
   "execution_count": 6,
   "metadata": {
    "collapsed": false
   },
   "outputs": [],
   "source": [
    "user_domain_flow.repartition(200)\n",
    "user_domain_flow.saveAsTextFile('/media/jw/5dccc50e-7c13-4186-bf6b-d894f02410be/result_jw/3')"
   ]
  },
  {
   "cell_type": "markdown",
   "metadata": {},
   "source": [
    "## url2vec data prepare"
   ]
  },
  {
   "cell_type": "code",
   "execution_count": null,
   "metadata": {
    "collapsed": true
   },
   "outputs": [],
   "source": [
    "domain_flow=user_flow.map(lambda u :(u[0],[u[1][0],u[1][2]]))\n",
    "def add(a, b): \n",
    "    a.append(b)\n",
    "    return a \n",
    "# def add(a, b): return a + str(b)\n",
    "user_domain_flow=domain_flow.foldByKey([],add)\n",
    "user_domain_flow.repartition(100)"
   ]
  },
  {
   "cell_type": "markdown",
   "metadata": {},
   "source": []
  }
 ],
 "metadata": {
  "anaconda-cloud": {},
  "kernelspec": {
   "display_name": "Python [conda root]",
   "language": "python",
   "name": "conda-root-py"
  },
  "language_info": {
   "codemirror_mode": {
    "name": "ipython",
    "version": 3
   },
   "file_extension": ".py",
   "mimetype": "text/x-python",
   "name": "python",
   "nbconvert_exporter": "python",
   "pygments_lexer": "ipython3",
   "version": "3.5.2"
  }
 },
 "nbformat": 4,
 "nbformat_minor": 1
}
